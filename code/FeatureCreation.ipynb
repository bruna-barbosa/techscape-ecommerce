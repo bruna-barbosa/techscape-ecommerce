{
 "cells": [
  {
   "cell_type": "code",
   "execution_count": 1,
   "metadata": {},
   "outputs": [],
   "source": [
    "import numpy as np\n",
    "import pandas as pd\n",
    "import matplotlib.pyplot as plt\n",
    "import seaborn as sns\n",
    "# data partition\n",
    "from sklearn.model_selection import train_test_split\n",
    "\n",
    "#filter methods\n",
    "# spearman \n",
    "# chi-square\n",
    "import scipy.stats as stats\n",
    "from scipy.stats import chi2_contingency\n",
    "\n",
    "#wrapper methods\n",
    "from sklearn.linear_model import LogisticRegression\n",
    "from sklearn.feature_selection import RFE\n",
    "\n",
    "# embedded methods\n",
    "from sklearn.linear_model import LassoCV\n",
    "\n",
    "from sklearn import preprocessing\n",
    "\n",
    "import warnings\n",
    "warnings.filterwarnings('ignore')\n",
    "\n",
    "import datetime"
   ]
  },
  {
   "cell_type": "code",
   "execution_count": 2,
   "metadata": {},
   "outputs": [],
   "source": [
    "## load data\n",
    "train = pd.read_csv('train.csv')\n",
    "test = pd.read_csv('test.csv')\n",
    "\n",
    "train.set_index('Access_ID', inplace = True)\n",
    "test.set_index('Access_ID', inplace = True)"
   ]
  },
  {
   "cell_type": "markdown",
   "metadata": {},
   "source": [
    "# Merge Test and Train data set for feature creation"
   ]
  },
  {
   "cell_type": "code",
   "execution_count": 3,
   "metadata": {},
   "outputs": [],
   "source": [
    "train['set'] = 'train'\n",
    "test['set'] = 'test'"
   ]
  },
  {
   "cell_type": "code",
   "execution_count": 4,
   "metadata": {},
   "outputs": [],
   "source": [
    "total = train.append(test)"
   ]
  },
  {
   "cell_type": "markdown",
   "metadata": {},
   "source": [
    "# Feature Creation"
   ]
  },
  {
   "cell_type": "code",
   "execution_count": 5,
   "metadata": {},
   "outputs": [],
   "source": [
    "train = total"
   ]
  },
  {
   "cell_type": "markdown",
   "metadata": {},
   "source": [
    "# Date"
   ]
  },
  {
   "cell_type": "code",
   "execution_count": 6,
   "metadata": {},
   "outputs": [],
   "source": [
    "# create feature on dates/ time intervals where the likelihood is very high that Buy = 1"
   ]
  },
  {
   "cell_type": "code",
   "execution_count": 7,
   "metadata": {},
   "outputs": [],
   "source": [
    "# get year, month, day out of date"
   ]
  },
  {
   "cell_type": "code",
   "execution_count": 8,
   "metadata": {
    "scrolled": true
   },
   "outputs": [
    {
     "data": {
      "text/plain": [
       "Access_ID\n",
       "102863333    21-Mar-20\n",
       "103117814    20-May-20\n",
       "103201891     4-Dec-20\n",
       "103226087    22-Dec-20\n",
       "103234445    24-Nov-20\n",
       "               ...    \n",
       "962042726    27-Nov-20\n",
       "962063064    20-Mar-20\n",
       "962147749    22-Nov-20\n",
       "962182167    19-Nov-20\n",
       "962218682    18-May-20\n",
       "Name: Date, Length: 12299, dtype: object"
      ]
     },
     "execution_count": 8,
     "metadata": {},
     "output_type": "execute_result"
    }
   ],
   "source": [
    "train['Date']"
   ]
  },
  {
   "cell_type": "code",
   "execution_count": 9,
   "metadata": {},
   "outputs": [],
   "source": [
    "train['Date'] = pd.to_datetime(train['Date'])"
   ]
  },
  {
   "cell_type": "code",
   "execution_count": 10,
   "metadata": {},
   "outputs": [],
   "source": [
    "train['Date_year'] = train['Date'].dt.year"
   ]
  },
  {
   "cell_type": "code",
   "execution_count": 11,
   "metadata": {},
   "outputs": [],
   "source": [
    "# month \n",
    "train['Date_month'] = train['Date'].dt.month"
   ]
  },
  {
   "cell_type": "code",
   "execution_count": 12,
   "metadata": {},
   "outputs": [],
   "source": [
    "df_Date_month = pd.get_dummies(train['Date_month'], prefix='Date_month')\n",
    "train = train.merge(df_Date_month, left_index=True, right_index=True)"
   ]
  },
  {
   "cell_type": "code",
   "execution_count": 13,
   "metadata": {},
   "outputs": [],
   "source": [
    "# week\n",
    "train['Date_week'] = train['Date'].dt.week"
   ]
  },
  {
   "cell_type": "code",
   "execution_count": 14,
   "metadata": {},
   "outputs": [],
   "source": [
    "train['Date_day'] = train['Date'].dt.day"
   ]
  },
  {
   "cell_type": "code",
   "execution_count": 15,
   "metadata": {},
   "outputs": [],
   "source": [
    "train['Date_dayofweek'] = train['Date'].dt.dayofweek + 1"
   ]
  },
  {
   "cell_type": "code",
   "execution_count": 16,
   "metadata": {
    "scrolled": true
   },
   "outputs": [
    {
     "data": {
      "text/plain": [
       "1    2045\n",
       "2    1891\n",
       "5    1877\n",
       "3    1777\n",
       "4    1774\n",
       "7    1559\n",
       "6    1376\n",
       "Name: Date_dayofweek, dtype: int64"
      ]
     },
     "execution_count": 16,
     "metadata": {},
     "output_type": "execute_result"
    }
   ],
   "source": [
    "train['Date_dayofweek'].value_counts()"
   ]
  },
  {
   "cell_type": "code",
   "execution_count": 17,
   "metadata": {},
   "outputs": [],
   "source": [
    "df_Date_dayofweek = pd.get_dummies(train['Date_dayofweek'], prefix='Date_dayofweek')"
   ]
  },
  {
   "cell_type": "code",
   "execution_count": 18,
   "metadata": {},
   "outputs": [],
   "source": [
    "train = train.merge(df_Date_dayofweek, left_index=True, right_index=True)"
   ]
  },
  {
   "cell_type": "code",
   "execution_count": 19,
   "metadata": {},
   "outputs": [
    {
     "data": {
      "text/plain": [
       "Date_year\n",
       "2020    12299\n",
       "dtype: int64"
      ]
     },
     "execution_count": 19,
     "metadata": {},
     "output_type": "execute_result"
    }
   ],
   "source": [
    "# explore dates\n",
    "\n",
    "# don't use year as feature (only one and future years wouldn't be included)\n",
    "train.groupby('Date_year').size()"
   ]
  },
  {
   "cell_type": "code",
   "execution_count": 20,
   "metadata": {},
   "outputs": [
    {
     "data": {
      "text/plain": [
       "Date_month\n",
       "2      184\n",
       "3     1907\n",
       "5     3364\n",
       "6      288\n",
       "7      432\n",
       "8      433\n",
       "9      448\n",
       "10     549\n",
       "11    2980\n",
       "12    1714\n",
       "dtype: int64"
      ]
     },
     "execution_count": 20,
     "metadata": {},
     "output_type": "execute_result"
    }
   ],
   "source": [
    "train.groupby('Date_month').size()"
   ]
  },
  {
   "cell_type": "code",
   "execution_count": 21,
   "metadata": {
    "scrolled": true
   },
   "outputs": [
    {
     "data": {
      "text/plain": [
       "Date_week\n",
       "5      16\n",
       "6      46\n",
       "7      36\n",
       "8      46\n",
       "9     102\n",
       "10    445\n",
       "11    414\n",
       "12    438\n",
       "13    424\n",
       "14    124\n",
       "18    250\n",
       "19    781\n",
       "20    753\n",
       "21    809\n",
       "22    771\n",
       "23     64\n",
       "24     72\n",
       "25     71\n",
       "26     65\n",
       "27     88\n",
       "28    104\n",
       "29    101\n",
       "30     88\n",
       "31     88\n",
       "32     92\n",
       "33     91\n",
       "34    106\n",
       "35    104\n",
       "36    113\n",
       "37    104\n",
       "38    118\n",
       "39     81\n",
       "40    120\n",
       "41    110\n",
       "42    128\n",
       "43    134\n",
       "44    192\n",
       "45    708\n",
       "46    725\n",
       "47    653\n",
       "48    695\n",
       "49    421\n",
       "50    378\n",
       "51    398\n",
       "52    385\n",
       "53    247\n",
       "dtype: int64"
      ]
     },
     "execution_count": 21,
     "metadata": {},
     "output_type": "execute_result"
    }
   ],
   "source": [
    "train.groupby('Date_week').size()"
   ]
  },
  {
   "cell_type": "code",
   "execution_count": 22,
   "metadata": {
    "scrolled": true
   },
   "outputs": [
    {
     "data": {
      "text/plain": [
       "Date_day\n",
       "1     393\n",
       "2     372\n",
       "3     369\n",
       "4     415\n",
       "5     437\n",
       "6     412\n",
       "7     404\n",
       "8     436\n",
       "9     351\n",
       "10    384\n",
       "11    422\n",
       "12    399\n",
       "13    410\n",
       "14    416\n",
       "15    427\n",
       "16    380\n",
       "17    378\n",
       "18    417\n",
       "19    415\n",
       "20    436\n",
       "21    408\n",
       "22    401\n",
       "23    382\n",
       "24    419\n",
       "25    415\n",
       "26    403\n",
       "27    376\n",
       "28    407\n",
       "29    380\n",
       "30    399\n",
       "31    236\n",
       "dtype: int64"
      ]
     },
     "execution_count": 22,
     "metadata": {},
     "output_type": "execute_result"
    }
   ],
   "source": [
    "train.groupby('Date_day').size()"
   ]
  },
  {
   "cell_type": "code",
   "execution_count": 23,
   "metadata": {},
   "outputs": [
    {
     "data": {
      "text/plain": [
       "Date_dayofweek\n",
       "1    2045\n",
       "2    1891\n",
       "3    1777\n",
       "4    1774\n",
       "5    1877\n",
       "6    1376\n",
       "7    1559\n",
       "dtype: int64"
      ]
     },
     "execution_count": 23,
     "metadata": {},
     "output_type": "execute_result"
    }
   ],
   "source": [
    "train.groupby('Date_dayofweek').size()"
   ]
  },
  {
   "cell_type": "code",
   "execution_count": 24,
   "metadata": {},
   "outputs": [],
   "source": [
    "def calc_prevalence(y):\n",
    " return (sum(y)/len(y))"
   ]
  },
  {
   "cell_type": "code",
   "execution_count": 25,
   "metadata": {},
   "outputs": [
    {
     "data": {
      "text/html": [
       "<div>\n",
       "<style scoped>\n",
       "    .dataframe tbody tr th:only-of-type {\n",
       "        vertical-align: middle;\n",
       "    }\n",
       "\n",
       "    .dataframe tbody tr th {\n",
       "        vertical-align: top;\n",
       "    }\n",
       "\n",
       "    .dataframe thead th {\n",
       "        text-align: right;\n",
       "    }\n",
       "</style>\n",
       "<table border=\"1\" class=\"dataframe\">\n",
       "  <thead>\n",
       "    <tr style=\"text-align: right;\">\n",
       "      <th></th>\n",
       "      <th>Date</th>\n",
       "      <th>AccountMng_Pages</th>\n",
       "      <th>AccountMng_Duration</th>\n",
       "      <th>FAQ_Pages</th>\n",
       "      <th>FAQ_Duration</th>\n",
       "      <th>Product_Pages</th>\n",
       "      <th>Product_Duration</th>\n",
       "      <th>GoogleAnalytics_BounceRate</th>\n",
       "      <th>GoogleAnalytics_ExitRate</th>\n",
       "      <th>GoogleAnalytics_PageValue</th>\n",
       "      <th>...</th>\n",
       "      <th>Date_week</th>\n",
       "      <th>Date_day</th>\n",
       "      <th>Date_dayofweek</th>\n",
       "      <th>Date_dayofweek_1</th>\n",
       "      <th>Date_dayofweek_2</th>\n",
       "      <th>Date_dayofweek_3</th>\n",
       "      <th>Date_dayofweek_4</th>\n",
       "      <th>Date_dayofweek_5</th>\n",
       "      <th>Date_dayofweek_6</th>\n",
       "      <th>Date_dayofweek_7</th>\n",
       "    </tr>\n",
       "    <tr>\n",
       "      <th>Access_ID</th>\n",
       "      <th></th>\n",
       "      <th></th>\n",
       "      <th></th>\n",
       "      <th></th>\n",
       "      <th></th>\n",
       "      <th></th>\n",
       "      <th></th>\n",
       "      <th></th>\n",
       "      <th></th>\n",
       "      <th></th>\n",
       "      <th></th>\n",
       "      <th></th>\n",
       "      <th></th>\n",
       "      <th></th>\n",
       "      <th></th>\n",
       "      <th></th>\n",
       "      <th></th>\n",
       "      <th></th>\n",
       "      <th></th>\n",
       "      <th></th>\n",
       "      <th></th>\n",
       "    </tr>\n",
       "  </thead>\n",
       "  <tbody>\n",
       "    <tr>\n",
       "      <th>102863333</th>\n",
       "      <td>2020-03-21</td>\n",
       "      <td>0</td>\n",
       "      <td>0.0000</td>\n",
       "      <td>0</td>\n",
       "      <td>0.0000</td>\n",
       "      <td>3</td>\n",
       "      <td>64.0000</td>\n",
       "      <td>0.0000</td>\n",
       "      <td>0.0667</td>\n",
       "      <td>0.0000</td>\n",
       "      <td>...</td>\n",
       "      <td>12</td>\n",
       "      <td>21</td>\n",
       "      <td>6</td>\n",
       "      <td>0</td>\n",
       "      <td>0</td>\n",
       "      <td>0</td>\n",
       "      <td>0</td>\n",
       "      <td>0</td>\n",
       "      <td>1</td>\n",
       "      <td>0</td>\n",
       "    </tr>\n",
       "    <tr>\n",
       "      <th>103117814</th>\n",
       "      <td>2020-05-20</td>\n",
       "      <td>0</td>\n",
       "      <td>0.0000</td>\n",
       "      <td>0</td>\n",
       "      <td>0.0000</td>\n",
       "      <td>23</td>\n",
       "      <td>684.5000</td>\n",
       "      <td>0.0217</td>\n",
       "      <td>0.0449</td>\n",
       "      <td>0.0000</td>\n",
       "      <td>...</td>\n",
       "      <td>21</td>\n",
       "      <td>20</td>\n",
       "      <td>3</td>\n",
       "      <td>0</td>\n",
       "      <td>0</td>\n",
       "      <td>1</td>\n",
       "      <td>0</td>\n",
       "      <td>0</td>\n",
       "      <td>0</td>\n",
       "      <td>0</td>\n",
       "    </tr>\n",
       "    <tr>\n",
       "      <th>103201891</th>\n",
       "      <td>2020-12-04</td>\n",
       "      <td>0</td>\n",
       "      <td>0.0000</td>\n",
       "      <td>0</td>\n",
       "      <td>0.0000</td>\n",
       "      <td>8</td>\n",
       "      <td>95.0000</td>\n",
       "      <td>0.0250</td>\n",
       "      <td>0.0583</td>\n",
       "      <td>0.0000</td>\n",
       "      <td>...</td>\n",
       "      <td>49</td>\n",
       "      <td>4</td>\n",
       "      <td>5</td>\n",
       "      <td>0</td>\n",
       "      <td>0</td>\n",
       "      <td>0</td>\n",
       "      <td>0</td>\n",
       "      <td>1</td>\n",
       "      <td>0</td>\n",
       "      <td>0</td>\n",
       "    </tr>\n",
       "    <tr>\n",
       "      <th>103226087</th>\n",
       "      <td>2020-12-22</td>\n",
       "      <td>0</td>\n",
       "      <td>0.0000</td>\n",
       "      <td>0</td>\n",
       "      <td>0.0000</td>\n",
       "      <td>9</td>\n",
       "      <td>608.7500</td>\n",
       "      <td>0.0000</td>\n",
       "      <td>0.0250</td>\n",
       "      <td>42.4225</td>\n",
       "      <td>...</td>\n",
       "      <td>52</td>\n",
       "      <td>22</td>\n",
       "      <td>2</td>\n",
       "      <td>0</td>\n",
       "      <td>1</td>\n",
       "      <td>0</td>\n",
       "      <td>0</td>\n",
       "      <td>0</td>\n",
       "      <td>0</td>\n",
       "      <td>0</td>\n",
       "    </tr>\n",
       "    <tr>\n",
       "      <th>103234445</th>\n",
       "      <td>2020-11-24</td>\n",
       "      <td>0</td>\n",
       "      <td>0.0000</td>\n",
       "      <td>2</td>\n",
       "      <td>386.0000</td>\n",
       "      <td>36</td>\n",
       "      <td>1609.9397</td>\n",
       "      <td>0.0000</td>\n",
       "      <td>0.0093</td>\n",
       "      <td>12.5033</td>\n",
       "      <td>...</td>\n",
       "      <td>48</td>\n",
       "      <td>24</td>\n",
       "      <td>2</td>\n",
       "      <td>0</td>\n",
       "      <td>1</td>\n",
       "      <td>0</td>\n",
       "      <td>0</td>\n",
       "      <td>0</td>\n",
       "      <td>0</td>\n",
       "      <td>0</td>\n",
       "    </tr>\n",
       "    <tr>\n",
       "      <th>103237767</th>\n",
       "      <td>2020-03-04</td>\n",
       "      <td>3</td>\n",
       "      <td>13.0000</td>\n",
       "      <td>0</td>\n",
       "      <td>0.0000</td>\n",
       "      <td>28</td>\n",
       "      <td>324.7692</td>\n",
       "      <td>0.0000</td>\n",
       "      <td>0.0017</td>\n",
       "      <td>0.0000</td>\n",
       "      <td>...</td>\n",
       "      <td>10</td>\n",
       "      <td>4</td>\n",
       "      <td>3</td>\n",
       "      <td>0</td>\n",
       "      <td>0</td>\n",
       "      <td>1</td>\n",
       "      <td>0</td>\n",
       "      <td>0</td>\n",
       "      <td>0</td>\n",
       "      <td>0</td>\n",
       "    </tr>\n",
       "    <tr>\n",
       "      <th>103271040</th>\n",
       "      <td>2020-11-03</td>\n",
       "      <td>15</td>\n",
       "      <td>270.0167</td>\n",
       "      <td>3</td>\n",
       "      <td>122.0000</td>\n",
       "      <td>66</td>\n",
       "      <td>2780.6000</td>\n",
       "      <td>0.0000</td>\n",
       "      <td>0.0165</td>\n",
       "      <td>0.0000</td>\n",
       "      <td>...</td>\n",
       "      <td>45</td>\n",
       "      <td>3</td>\n",
       "      <td>2</td>\n",
       "      <td>0</td>\n",
       "      <td>1</td>\n",
       "      <td>0</td>\n",
       "      <td>0</td>\n",
       "      <td>0</td>\n",
       "      <td>0</td>\n",
       "      <td>0</td>\n",
       "    </tr>\n",
       "    <tr>\n",
       "      <th>103279585</th>\n",
       "      <td>2020-03-19</td>\n",
       "      <td>0</td>\n",
       "      <td>0.0000</td>\n",
       "      <td>0</td>\n",
       "      <td>0.0000</td>\n",
       "      <td>12</td>\n",
       "      <td>249.5000</td>\n",
       "      <td>0.0056</td>\n",
       "      <td>0.0250</td>\n",
       "      <td>0.0000</td>\n",
       "      <td>...</td>\n",
       "      <td>12</td>\n",
       "      <td>19</td>\n",
       "      <td>4</td>\n",
       "      <td>0</td>\n",
       "      <td>0</td>\n",
       "      <td>0</td>\n",
       "      <td>1</td>\n",
       "      <td>0</td>\n",
       "      <td>0</td>\n",
       "      <td>0</td>\n",
       "    </tr>\n",
       "    <tr>\n",
       "      <th>103348992</th>\n",
       "      <td>2020-03-26</td>\n",
       "      <td>0</td>\n",
       "      <td>0.0000</td>\n",
       "      <td>0</td>\n",
       "      <td>0.0000</td>\n",
       "      <td>3</td>\n",
       "      <td>30.0000</td>\n",
       "      <td>0.0000</td>\n",
       "      <td>0.0667</td>\n",
       "      <td>0.0000</td>\n",
       "      <td>...</td>\n",
       "      <td>13</td>\n",
       "      <td>26</td>\n",
       "      <td>4</td>\n",
       "      <td>0</td>\n",
       "      <td>0</td>\n",
       "      <td>0</td>\n",
       "      <td>1</td>\n",
       "      <td>0</td>\n",
       "      <td>0</td>\n",
       "      <td>0</td>\n",
       "    </tr>\n",
       "    <tr>\n",
       "      <th>103364259</th>\n",
       "      <td>2020-03-13</td>\n",
       "      <td>0</td>\n",
       "      <td>0.0000</td>\n",
       "      <td>0</td>\n",
       "      <td>0.0000</td>\n",
       "      <td>17</td>\n",
       "      <td>469.4167</td>\n",
       "      <td>0.0000</td>\n",
       "      <td>0.0118</td>\n",
       "      <td>0.0000</td>\n",
       "      <td>...</td>\n",
       "      <td>11</td>\n",
       "      <td>13</td>\n",
       "      <td>5</td>\n",
       "      <td>0</td>\n",
       "      <td>0</td>\n",
       "      <td>0</td>\n",
       "      <td>0</td>\n",
       "      <td>1</td>\n",
       "      <td>0</td>\n",
       "      <td>0</td>\n",
       "    </tr>\n",
       "    <tr>\n",
       "      <th>103374898</th>\n",
       "      <td>2020-05-29</td>\n",
       "      <td>0</td>\n",
       "      <td>0.0000</td>\n",
       "      <td>1</td>\n",
       "      <td>6.0000</td>\n",
       "      <td>13</td>\n",
       "      <td>2782.7500</td>\n",
       "      <td>0.0000</td>\n",
       "      <td>0.0051</td>\n",
       "      <td>0.0000</td>\n",
       "      <td>...</td>\n",
       "      <td>22</td>\n",
       "      <td>29</td>\n",
       "      <td>5</td>\n",
       "      <td>0</td>\n",
       "      <td>0</td>\n",
       "      <td>0</td>\n",
       "      <td>0</td>\n",
       "      <td>1</td>\n",
       "      <td>0</td>\n",
       "      <td>0</td>\n",
       "    </tr>\n",
       "    <tr>\n",
       "      <th>103383824</th>\n",
       "      <td>2020-05-24</td>\n",
       "      <td>0</td>\n",
       "      <td>0.0000</td>\n",
       "      <td>0</td>\n",
       "      <td>0.0000</td>\n",
       "      <td>24</td>\n",
       "      <td>674.5000</td>\n",
       "      <td>0.0417</td>\n",
       "      <td>0.0625</td>\n",
       "      <td>0.0000</td>\n",
       "      <td>...</td>\n",
       "      <td>21</td>\n",
       "      <td>24</td>\n",
       "      <td>7</td>\n",
       "      <td>0</td>\n",
       "      <td>0</td>\n",
       "      <td>0</td>\n",
       "      <td>0</td>\n",
       "      <td>0</td>\n",
       "      <td>0</td>\n",
       "      <td>1</td>\n",
       "    </tr>\n",
       "    <tr>\n",
       "      <th>103429233</th>\n",
       "      <td>2020-12-20</td>\n",
       "      <td>3</td>\n",
       "      <td>16.0000</td>\n",
       "      <td>0</td>\n",
       "      <td>0.0000</td>\n",
       "      <td>29</td>\n",
       "      <td>423.1667</td>\n",
       "      <td>0.0103</td>\n",
       "      <td>0.0299</td>\n",
       "      <td>0.0000</td>\n",
       "      <td>...</td>\n",
       "      <td>51</td>\n",
       "      <td>20</td>\n",
       "      <td>7</td>\n",
       "      <td>0</td>\n",
       "      <td>0</td>\n",
       "      <td>0</td>\n",
       "      <td>0</td>\n",
       "      <td>0</td>\n",
       "      <td>0</td>\n",
       "      <td>1</td>\n",
       "    </tr>\n",
       "    <tr>\n",
       "      <th>103438335</th>\n",
       "      <td>2020-11-20</td>\n",
       "      <td>0</td>\n",
       "      <td>0.0000</td>\n",
       "      <td>0</td>\n",
       "      <td>0.0000</td>\n",
       "      <td>6</td>\n",
       "      <td>142.1250</td>\n",
       "      <td>0.0000</td>\n",
       "      <td>0.0333</td>\n",
       "      <td>0.0000</td>\n",
       "      <td>...</td>\n",
       "      <td>47</td>\n",
       "      <td>20</td>\n",
       "      <td>5</td>\n",
       "      <td>0</td>\n",
       "      <td>0</td>\n",
       "      <td>0</td>\n",
       "      <td>0</td>\n",
       "      <td>1</td>\n",
       "      <td>0</td>\n",
       "      <td>0</td>\n",
       "    </tr>\n",
       "    <tr>\n",
       "      <th>103570984</th>\n",
       "      <td>2020-12-07</td>\n",
       "      <td>9</td>\n",
       "      <td>125.2500</td>\n",
       "      <td>0</td>\n",
       "      <td>0.0000</td>\n",
       "      <td>3</td>\n",
       "      <td>119.2500</td>\n",
       "      <td>0.0000</td>\n",
       "      <td>0.0250</td>\n",
       "      <td>0.0000</td>\n",
       "      <td>...</td>\n",
       "      <td>50</td>\n",
       "      <td>7</td>\n",
       "      <td>1</td>\n",
       "      <td>1</td>\n",
       "      <td>0</td>\n",
       "      <td>0</td>\n",
       "      <td>0</td>\n",
       "      <td>0</td>\n",
       "      <td>0</td>\n",
       "      <td>0</td>\n",
       "    </tr>\n",
       "    <tr>\n",
       "      <th>103663338</th>\n",
       "      <td>2020-09-14</td>\n",
       "      <td>0</td>\n",
       "      <td>0.0000</td>\n",
       "      <td>0</td>\n",
       "      <td>0.0000</td>\n",
       "      <td>24</td>\n",
       "      <td>1884.7000</td>\n",
       "      <td>0.0320</td>\n",
       "      <td>0.0680</td>\n",
       "      <td>0.0000</td>\n",
       "      <td>...</td>\n",
       "      <td>38</td>\n",
       "      <td>14</td>\n",
       "      <td>1</td>\n",
       "      <td>1</td>\n",
       "      <td>0</td>\n",
       "      <td>0</td>\n",
       "      <td>0</td>\n",
       "      <td>0</td>\n",
       "      <td>0</td>\n",
       "      <td>0</td>\n",
       "    </tr>\n",
       "    <tr>\n",
       "      <th>103674236</th>\n",
       "      <td>2020-12-22</td>\n",
       "      <td>0</td>\n",
       "      <td>0.0000</td>\n",
       "      <td>0</td>\n",
       "      <td>0.0000</td>\n",
       "      <td>1</td>\n",
       "      <td>0.0000</td>\n",
       "      <td>0.2000</td>\n",
       "      <td>0.2000</td>\n",
       "      <td>0.0000</td>\n",
       "      <td>...</td>\n",
       "      <td>52</td>\n",
       "      <td>22</td>\n",
       "      <td>2</td>\n",
       "      <td>0</td>\n",
       "      <td>1</td>\n",
       "      <td>0</td>\n",
       "      <td>0</td>\n",
       "      <td>0</td>\n",
       "      <td>0</td>\n",
       "      <td>0</td>\n",
       "    </tr>\n",
       "    <tr>\n",
       "      <th>103684633</th>\n",
       "      <td>2020-03-24</td>\n",
       "      <td>0</td>\n",
       "      <td>0.0000</td>\n",
       "      <td>0</td>\n",
       "      <td>0.0000</td>\n",
       "      <td>31</td>\n",
       "      <td>1350.5000</td>\n",
       "      <td>0.0065</td>\n",
       "      <td>0.0161</td>\n",
       "      <td>0.0000</td>\n",
       "      <td>...</td>\n",
       "      <td>13</td>\n",
       "      <td>24</td>\n",
       "      <td>2</td>\n",
       "      <td>0</td>\n",
       "      <td>1</td>\n",
       "      <td>0</td>\n",
       "      <td>0</td>\n",
       "      <td>0</td>\n",
       "      <td>0</td>\n",
       "      <td>0</td>\n",
       "    </tr>\n",
       "    <tr>\n",
       "      <th>103710668</th>\n",
       "      <td>2020-05-21</td>\n",
       "      <td>3</td>\n",
       "      <td>133.5000</td>\n",
       "      <td>4</td>\n",
       "      <td>191.0000</td>\n",
       "      <td>15</td>\n",
       "      <td>443.9333</td>\n",
       "      <td>0.0000</td>\n",
       "      <td>0.0200</td>\n",
       "      <td>0.0000</td>\n",
       "      <td>...</td>\n",
       "      <td>21</td>\n",
       "      <td>21</td>\n",
       "      <td>4</td>\n",
       "      <td>0</td>\n",
       "      <td>0</td>\n",
       "      <td>0</td>\n",
       "      <td>1</td>\n",
       "      <td>0</td>\n",
       "      <td>0</td>\n",
       "      <td>0</td>\n",
       "    </tr>\n",
       "    <tr>\n",
       "      <th>103778619</th>\n",
       "      <td>2020-09-01</td>\n",
       "      <td>0</td>\n",
       "      <td>0.0000</td>\n",
       "      <td>0</td>\n",
       "      <td>0.0000</td>\n",
       "      <td>1</td>\n",
       "      <td>0.0000</td>\n",
       "      <td>0.2000</td>\n",
       "      <td>0.2000</td>\n",
       "      <td>0.0000</td>\n",
       "      <td>...</td>\n",
       "      <td>36</td>\n",
       "      <td>1</td>\n",
       "      <td>2</td>\n",
       "      <td>0</td>\n",
       "      <td>1</td>\n",
       "      <td>0</td>\n",
       "      <td>0</td>\n",
       "      <td>0</td>\n",
       "      <td>0</td>\n",
       "      <td>0</td>\n",
       "    </tr>\n",
       "    <tr>\n",
       "      <th>104035985</th>\n",
       "      <td>2020-05-10</td>\n",
       "      <td>0</td>\n",
       "      <td>0.0000</td>\n",
       "      <td>0</td>\n",
       "      <td>0.0000</td>\n",
       "      <td>8</td>\n",
       "      <td>222.0000</td>\n",
       "      <td>0.0000</td>\n",
       "      <td>0.0286</td>\n",
       "      <td>53.4746</td>\n",
       "      <td>...</td>\n",
       "      <td>19</td>\n",
       "      <td>10</td>\n",
       "      <td>7</td>\n",
       "      <td>0</td>\n",
       "      <td>0</td>\n",
       "      <td>0</td>\n",
       "      <td>0</td>\n",
       "      <td>0</td>\n",
       "      <td>0</td>\n",
       "      <td>1</td>\n",
       "    </tr>\n",
       "    <tr>\n",
       "      <th>104251107</th>\n",
       "      <td>2020-05-13</td>\n",
       "      <td>6</td>\n",
       "      <td>450.4000</td>\n",
       "      <td>0</td>\n",
       "      <td>0.0000</td>\n",
       "      <td>6</td>\n",
       "      <td>72.9000</td>\n",
       "      <td>0.0000</td>\n",
       "      <td>0.0286</td>\n",
       "      <td>0.0000</td>\n",
       "      <td>...</td>\n",
       "      <td>20</td>\n",
       "      <td>13</td>\n",
       "      <td>3</td>\n",
       "      <td>0</td>\n",
       "      <td>0</td>\n",
       "      <td>1</td>\n",
       "      <td>0</td>\n",
       "      <td>0</td>\n",
       "      <td>0</td>\n",
       "      <td>0</td>\n",
       "    </tr>\n",
       "    <tr>\n",
       "      <th>104263583</th>\n",
       "      <td>2020-05-01</td>\n",
       "      <td>2</td>\n",
       "      <td>40.0000</td>\n",
       "      <td>0</td>\n",
       "      <td>0.0000</td>\n",
       "      <td>21</td>\n",
       "      <td>1494.5000</td>\n",
       "      <td>0.0091</td>\n",
       "      <td>0.0045</td>\n",
       "      <td>0.0000</td>\n",
       "      <td>...</td>\n",
       "      <td>18</td>\n",
       "      <td>1</td>\n",
       "      <td>5</td>\n",
       "      <td>0</td>\n",
       "      <td>0</td>\n",
       "      <td>0</td>\n",
       "      <td>0</td>\n",
       "      <td>1</td>\n",
       "      <td>0</td>\n",
       "      <td>0</td>\n",
       "    </tr>\n",
       "    <tr>\n",
       "      <th>104370542</th>\n",
       "      <td>2020-05-18</td>\n",
       "      <td>0</td>\n",
       "      <td>0.0000</td>\n",
       "      <td>0</td>\n",
       "      <td>0.0000</td>\n",
       "      <td>2</td>\n",
       "      <td>23.0000</td>\n",
       "      <td>0.0000</td>\n",
       "      <td>0.1000</td>\n",
       "      <td>0.0000</td>\n",
       "      <td>...</td>\n",
       "      <td>21</td>\n",
       "      <td>18</td>\n",
       "      <td>1</td>\n",
       "      <td>1</td>\n",
       "      <td>0</td>\n",
       "      <td>0</td>\n",
       "      <td>0</td>\n",
       "      <td>0</td>\n",
       "      <td>0</td>\n",
       "      <td>0</td>\n",
       "    </tr>\n",
       "    <tr>\n",
       "      <th>104451620</th>\n",
       "      <td>2020-11-20</td>\n",
       "      <td>0</td>\n",
       "      <td>0.0000</td>\n",
       "      <td>0</td>\n",
       "      <td>0.0000</td>\n",
       "      <td>16</td>\n",
       "      <td>381.2143</td>\n",
       "      <td>0.0125</td>\n",
       "      <td>0.0224</td>\n",
       "      <td>0.0000</td>\n",
       "      <td>...</td>\n",
       "      <td>47</td>\n",
       "      <td>20</td>\n",
       "      <td>5</td>\n",
       "      <td>0</td>\n",
       "      <td>0</td>\n",
       "      <td>0</td>\n",
       "      <td>0</td>\n",
       "      <td>1</td>\n",
       "      <td>0</td>\n",
       "      <td>0</td>\n",
       "    </tr>\n",
       "    <tr>\n",
       "      <th>104511063</th>\n",
       "      <td>2020-12-12</td>\n",
       "      <td>3</td>\n",
       "      <td>875.0000</td>\n",
       "      <td>0</td>\n",
       "      <td>0.0000</td>\n",
       "      <td>34</td>\n",
       "      <td>780.7917</td>\n",
       "      <td>0.0000</td>\n",
       "      <td>0.0157</td>\n",
       "      <td>0.0000</td>\n",
       "      <td>...</td>\n",
       "      <td>50</td>\n",
       "      <td>12</td>\n",
       "      <td>6</td>\n",
       "      <td>0</td>\n",
       "      <td>0</td>\n",
       "      <td>0</td>\n",
       "      <td>0</td>\n",
       "      <td>0</td>\n",
       "      <td>1</td>\n",
       "      <td>0</td>\n",
       "    </tr>\n",
       "    <tr>\n",
       "      <th>104571401</th>\n",
       "      <td>2020-12-21</td>\n",
       "      <td>0</td>\n",
       "      <td>0.0000</td>\n",
       "      <td>0</td>\n",
       "      <td>0.0000</td>\n",
       "      <td>1</td>\n",
       "      <td>0.0000</td>\n",
       "      <td>0.2000</td>\n",
       "      <td>0.2000</td>\n",
       "      <td>0.0000</td>\n",
       "      <td>...</td>\n",
       "      <td>52</td>\n",
       "      <td>21</td>\n",
       "      <td>1</td>\n",
       "      <td>1</td>\n",
       "      <td>0</td>\n",
       "      <td>0</td>\n",
       "      <td>0</td>\n",
       "      <td>0</td>\n",
       "      <td>0</td>\n",
       "      <td>0</td>\n",
       "    </tr>\n",
       "    <tr>\n",
       "      <th>104628103</th>\n",
       "      <td>2020-05-30</td>\n",
       "      <td>1</td>\n",
       "      <td>32.0000</td>\n",
       "      <td>0</td>\n",
       "      <td>0.0000</td>\n",
       "      <td>9</td>\n",
       "      <td>455.0000</td>\n",
       "      <td>0.0000</td>\n",
       "      <td>0.0222</td>\n",
       "      <td>18.6533</td>\n",
       "      <td>...</td>\n",
       "      <td>22</td>\n",
       "      <td>30</td>\n",
       "      <td>6</td>\n",
       "      <td>0</td>\n",
       "      <td>0</td>\n",
       "      <td>0</td>\n",
       "      <td>0</td>\n",
       "      <td>0</td>\n",
       "      <td>1</td>\n",
       "      <td>0</td>\n",
       "    </tr>\n",
       "    <tr>\n",
       "      <th>104650368</th>\n",
       "      <td>2020-11-05</td>\n",
       "      <td>1</td>\n",
       "      <td>0.0000</td>\n",
       "      <td>0</td>\n",
       "      <td>0.0000</td>\n",
       "      <td>14</td>\n",
       "      <td>1125.8750</td>\n",
       "      <td>0.0000</td>\n",
       "      <td>0.0429</td>\n",
       "      <td>0.0000</td>\n",
       "      <td>...</td>\n",
       "      <td>45</td>\n",
       "      <td>5</td>\n",
       "      <td>4</td>\n",
       "      <td>0</td>\n",
       "      <td>0</td>\n",
       "      <td>0</td>\n",
       "      <td>1</td>\n",
       "      <td>0</td>\n",
       "      <td>0</td>\n",
       "      <td>0</td>\n",
       "    </tr>\n",
       "    <tr>\n",
       "      <th>104662870</th>\n",
       "      <td>2020-09-30</td>\n",
       "      <td>19</td>\n",
       "      <td>341.8167</td>\n",
       "      <td>1</td>\n",
       "      <td>51.4000</td>\n",
       "      <td>429</td>\n",
       "      <td>9661.5858</td>\n",
       "      <td>0.0030</td>\n",
       "      <td>0.0125</td>\n",
       "      <td>3.4594</td>\n",
       "      <td>...</td>\n",
       "      <td>40</td>\n",
       "      <td>30</td>\n",
       "      <td>3</td>\n",
       "      <td>0</td>\n",
       "      <td>0</td>\n",
       "      <td>1</td>\n",
       "      <td>0</td>\n",
       "      <td>0</td>\n",
       "      <td>0</td>\n",
       "      <td>0</td>\n",
       "    </tr>\n",
       "    <tr>\n",
       "      <th>104705625</th>\n",
       "      <td>2020-02-12</td>\n",
       "      <td>2</td>\n",
       "      <td>31.0000</td>\n",
       "      <td>1</td>\n",
       "      <td>16.0000</td>\n",
       "      <td>36</td>\n",
       "      <td>2083.5310</td>\n",
       "      <td>0.0000</td>\n",
       "      <td>0.0135</td>\n",
       "      <td>0.0000</td>\n",
       "      <td>...</td>\n",
       "      <td>7</td>\n",
       "      <td>12</td>\n",
       "      <td>3</td>\n",
       "      <td>0</td>\n",
       "      <td>0</td>\n",
       "      <td>1</td>\n",
       "      <td>0</td>\n",
       "      <td>0</td>\n",
       "      <td>0</td>\n",
       "      <td>0</td>\n",
       "    </tr>\n",
       "    <tr>\n",
       "      <th>104809719</th>\n",
       "      <td>2020-12-15</td>\n",
       "      <td>0</td>\n",
       "      <td>0.0000</td>\n",
       "      <td>0</td>\n",
       "      <td>0.0000</td>\n",
       "      <td>9</td>\n",
       "      <td>296.3929</td>\n",
       "      <td>0.0000</td>\n",
       "      <td>0.0250</td>\n",
       "      <td>0.0000</td>\n",
       "      <td>...</td>\n",
       "      <td>51</td>\n",
       "      <td>15</td>\n",
       "      <td>2</td>\n",
       "      <td>0</td>\n",
       "      <td>1</td>\n",
       "      <td>0</td>\n",
       "      <td>0</td>\n",
       "      <td>0</td>\n",
       "      <td>0</td>\n",
       "      <td>0</td>\n",
       "    </tr>\n",
       "    <tr>\n",
       "      <th>104811953</th>\n",
       "      <td>2020-03-16</td>\n",
       "      <td>3</td>\n",
       "      <td>16.3333</td>\n",
       "      <td>0</td>\n",
       "      <td>0.0000</td>\n",
       "      <td>23</td>\n",
       "      <td>505.5833</td>\n",
       "      <td>0.0080</td>\n",
       "      <td>0.0300</td>\n",
       "      <td>9.1501</td>\n",
       "      <td>...</td>\n",
       "      <td>12</td>\n",
       "      <td>16</td>\n",
       "      <td>1</td>\n",
       "      <td>1</td>\n",
       "      <td>0</td>\n",
       "      <td>0</td>\n",
       "      <td>0</td>\n",
       "      <td>0</td>\n",
       "      <td>0</td>\n",
       "      <td>0</td>\n",
       "    </tr>\n",
       "    <tr>\n",
       "      <th>105045048</th>\n",
       "      <td>2020-09-06</td>\n",
       "      <td>4</td>\n",
       "      <td>381.8000</td>\n",
       "      <td>0</td>\n",
       "      <td>0.0000</td>\n",
       "      <td>1</td>\n",
       "      <td>31.2000</td>\n",
       "      <td>0.0000</td>\n",
       "      <td>0.0400</td>\n",
       "      <td>0.0000</td>\n",
       "      <td>...</td>\n",
       "      <td>36</td>\n",
       "      <td>6</td>\n",
       "      <td>7</td>\n",
       "      <td>0</td>\n",
       "      <td>0</td>\n",
       "      <td>0</td>\n",
       "      <td>0</td>\n",
       "      <td>0</td>\n",
       "      <td>0</td>\n",
       "      <td>1</td>\n",
       "    </tr>\n",
       "    <tr>\n",
       "      <th>105167940</th>\n",
       "      <td>2020-10-20</td>\n",
       "      <td>1</td>\n",
       "      <td>19.2000</td>\n",
       "      <td>0</td>\n",
       "      <td>0.0000</td>\n",
       "      <td>42</td>\n",
       "      <td>2197.0000</td>\n",
       "      <td>0.0000</td>\n",
       "      <td>0.0136</td>\n",
       "      <td>0.0000</td>\n",
       "      <td>...</td>\n",
       "      <td>43</td>\n",
       "      <td>20</td>\n",
       "      <td>2</td>\n",
       "      <td>0</td>\n",
       "      <td>1</td>\n",
       "      <td>0</td>\n",
       "      <td>0</td>\n",
       "      <td>0</td>\n",
       "      <td>0</td>\n",
       "      <td>0</td>\n",
       "    </tr>\n",
       "    <tr>\n",
       "      <th>105311605</th>\n",
       "      <td>2020-05-28</td>\n",
       "      <td>1</td>\n",
       "      <td>7.0000</td>\n",
       "      <td>0</td>\n",
       "      <td>0.0000</td>\n",
       "      <td>151</td>\n",
       "      <td>2564.2782</td>\n",
       "      <td>0.0092</td>\n",
       "      <td>0.0211</td>\n",
       "      <td>0.0000</td>\n",
       "      <td>...</td>\n",
       "      <td>22</td>\n",
       "      <td>28</td>\n",
       "      <td>4</td>\n",
       "      <td>0</td>\n",
       "      <td>0</td>\n",
       "      <td>0</td>\n",
       "      <td>1</td>\n",
       "      <td>0</td>\n",
       "      <td>0</td>\n",
       "      <td>0</td>\n",
       "    </tr>\n",
       "    <tr>\n",
       "      <th>105313007</th>\n",
       "      <td>2020-11-07</td>\n",
       "      <td>0</td>\n",
       "      <td>0.0000</td>\n",
       "      <td>0</td>\n",
       "      <td>0.0000</td>\n",
       "      <td>2</td>\n",
       "      <td>27.5000</td>\n",
       "      <td>0.0000</td>\n",
       "      <td>0.1000</td>\n",
       "      <td>0.0000</td>\n",
       "      <td>...</td>\n",
       "      <td>45</td>\n",
       "      <td>7</td>\n",
       "      <td>6</td>\n",
       "      <td>0</td>\n",
       "      <td>0</td>\n",
       "      <td>0</td>\n",
       "      <td>0</td>\n",
       "      <td>0</td>\n",
       "      <td>1</td>\n",
       "      <td>0</td>\n",
       "    </tr>\n",
       "    <tr>\n",
       "      <th>105317095</th>\n",
       "      <td>2020-05-02</td>\n",
       "      <td>0</td>\n",
       "      <td>0.0000</td>\n",
       "      <td>0</td>\n",
       "      <td>0.0000</td>\n",
       "      <td>1</td>\n",
       "      <td>0.0000</td>\n",
       "      <td>0.2000</td>\n",
       "      <td>0.2000</td>\n",
       "      <td>0.0000</td>\n",
       "      <td>...</td>\n",
       "      <td>18</td>\n",
       "      <td>2</td>\n",
       "      <td>6</td>\n",
       "      <td>0</td>\n",
       "      <td>0</td>\n",
       "      <td>0</td>\n",
       "      <td>0</td>\n",
       "      <td>0</td>\n",
       "      <td>1</td>\n",
       "      <td>0</td>\n",
       "    </tr>\n",
       "    <tr>\n",
       "      <th>105337816</th>\n",
       "      <td>2020-03-24</td>\n",
       "      <td>4</td>\n",
       "      <td>539.5000</td>\n",
       "      <td>0</td>\n",
       "      <td>0.0000</td>\n",
       "      <td>1</td>\n",
       "      <td>0.0000</td>\n",
       "      <td>0.0000</td>\n",
       "      <td>0.0500</td>\n",
       "      <td>0.0000</td>\n",
       "      <td>...</td>\n",
       "      <td>13</td>\n",
       "      <td>24</td>\n",
       "      <td>2</td>\n",
       "      <td>0</td>\n",
       "      <td>1</td>\n",
       "      <td>0</td>\n",
       "      <td>0</td>\n",
       "      <td>0</td>\n",
       "      <td>0</td>\n",
       "      <td>0</td>\n",
       "    </tr>\n",
       "    <tr>\n",
       "      <th>105399772</th>\n",
       "      <td>2020-11-25</td>\n",
       "      <td>1</td>\n",
       "      <td>16.0000</td>\n",
       "      <td>0</td>\n",
       "      <td>0.0000</td>\n",
       "      <td>44</td>\n",
       "      <td>2939.6250</td>\n",
       "      <td>0.0000</td>\n",
       "      <td>0.0022</td>\n",
       "      <td>32.8121</td>\n",
       "      <td>...</td>\n",
       "      <td>48</td>\n",
       "      <td>25</td>\n",
       "      <td>3</td>\n",
       "      <td>0</td>\n",
       "      <td>0</td>\n",
       "      <td>1</td>\n",
       "      <td>0</td>\n",
       "      <td>0</td>\n",
       "      <td>0</td>\n",
       "      <td>0</td>\n",
       "    </tr>\n",
       "    <tr>\n",
       "      <th>105470965</th>\n",
       "      <td>2020-05-10</td>\n",
       "      <td>6</td>\n",
       "      <td>141.5000</td>\n",
       "      <td>3</td>\n",
       "      <td>474.5000</td>\n",
       "      <td>46</td>\n",
       "      <td>1431.3333</td>\n",
       "      <td>0.0037</td>\n",
       "      <td>0.0154</td>\n",
       "      <td>6.0767</td>\n",
       "      <td>...</td>\n",
       "      <td>19</td>\n",
       "      <td>10</td>\n",
       "      <td>7</td>\n",
       "      <td>0</td>\n",
       "      <td>0</td>\n",
       "      <td>0</td>\n",
       "      <td>0</td>\n",
       "      <td>0</td>\n",
       "      <td>0</td>\n",
       "      <td>1</td>\n",
       "    </tr>\n",
       "    <tr>\n",
       "      <th>105527111</th>\n",
       "      <td>2020-09-06</td>\n",
       "      <td>2</td>\n",
       "      <td>268.0800</td>\n",
       "      <td>0</td>\n",
       "      <td>0.0000</td>\n",
       "      <td>13</td>\n",
       "      <td>420.2467</td>\n",
       "      <td>0.0421</td>\n",
       "      <td>0.0649</td>\n",
       "      <td>0.0000</td>\n",
       "      <td>...</td>\n",
       "      <td>36</td>\n",
       "      <td>6</td>\n",
       "      <td>7</td>\n",
       "      <td>0</td>\n",
       "      <td>0</td>\n",
       "      <td>0</td>\n",
       "      <td>0</td>\n",
       "      <td>0</td>\n",
       "      <td>0</td>\n",
       "      <td>1</td>\n",
       "    </tr>\n",
       "    <tr>\n",
       "      <th>105537587</th>\n",
       "      <td>2020-11-30</td>\n",
       "      <td>1</td>\n",
       "      <td>73.0000</td>\n",
       "      <td>0</td>\n",
       "      <td>0.0000</td>\n",
       "      <td>12</td>\n",
       "      <td>2156.5000</td>\n",
       "      <td>0.0182</td>\n",
       "      <td>0.0273</td>\n",
       "      <td>68.8877</td>\n",
       "      <td>...</td>\n",
       "      <td>49</td>\n",
       "      <td>30</td>\n",
       "      <td>1</td>\n",
       "      <td>1</td>\n",
       "      <td>0</td>\n",
       "      <td>0</td>\n",
       "      <td>0</td>\n",
       "      <td>0</td>\n",
       "      <td>0</td>\n",
       "      <td>0</td>\n",
       "    </tr>\n",
       "    <tr>\n",
       "      <th>105593053</th>\n",
       "      <td>2020-12-08</td>\n",
       "      <td>1</td>\n",
       "      <td>5.0000</td>\n",
       "      <td>0</td>\n",
       "      <td>0.0000</td>\n",
       "      <td>29</td>\n",
       "      <td>3441.4393</td>\n",
       "      <td>0.0071</td>\n",
       "      <td>0.0057</td>\n",
       "      <td>0.0000</td>\n",
       "      <td>...</td>\n",
       "      <td>50</td>\n",
       "      <td>8</td>\n",
       "      <td>2</td>\n",
       "      <td>0</td>\n",
       "      <td>1</td>\n",
       "      <td>0</td>\n",
       "      <td>0</td>\n",
       "      <td>0</td>\n",
       "      <td>0</td>\n",
       "      <td>0</td>\n",
       "    </tr>\n",
       "    <tr>\n",
       "      <th>105635569</th>\n",
       "      <td>2020-05-20</td>\n",
       "      <td>0</td>\n",
       "      <td>0.0000</td>\n",
       "      <td>0</td>\n",
       "      <td>0.0000</td>\n",
       "      <td>1</td>\n",
       "      <td>0.0000</td>\n",
       "      <td>0.2000</td>\n",
       "      <td>0.2000</td>\n",
       "      <td>0.0000</td>\n",
       "      <td>...</td>\n",
       "      <td>21</td>\n",
       "      <td>20</td>\n",
       "      <td>3</td>\n",
       "      <td>0</td>\n",
       "      <td>0</td>\n",
       "      <td>1</td>\n",
       "      <td>0</td>\n",
       "      <td>0</td>\n",
       "      <td>0</td>\n",
       "      <td>0</td>\n",
       "    </tr>\n",
       "    <tr>\n",
       "      <th>105730456</th>\n",
       "      <td>2020-11-16</td>\n",
       "      <td>2</td>\n",
       "      <td>53.5000</td>\n",
       "      <td>0</td>\n",
       "      <td>0.0000</td>\n",
       "      <td>85</td>\n",
       "      <td>4478.6994</td>\n",
       "      <td>0.0024</td>\n",
       "      <td>0.0162</td>\n",
       "      <td>0.0000</td>\n",
       "      <td>...</td>\n",
       "      <td>47</td>\n",
       "      <td>16</td>\n",
       "      <td>1</td>\n",
       "      <td>1</td>\n",
       "      <td>0</td>\n",
       "      <td>0</td>\n",
       "      <td>0</td>\n",
       "      <td>0</td>\n",
       "      <td>0</td>\n",
       "      <td>0</td>\n",
       "    </tr>\n",
       "    <tr>\n",
       "      <th>105851108</th>\n",
       "      <td>2020-03-11</td>\n",
       "      <td>2</td>\n",
       "      <td>95.5000</td>\n",
       "      <td>0</td>\n",
       "      <td>0.0000</td>\n",
       "      <td>13</td>\n",
       "      <td>334.5000</td>\n",
       "      <td>0.0000</td>\n",
       "      <td>0.0027</td>\n",
       "      <td>0.0000</td>\n",
       "      <td>...</td>\n",
       "      <td>11</td>\n",
       "      <td>11</td>\n",
       "      <td>3</td>\n",
       "      <td>0</td>\n",
       "      <td>0</td>\n",
       "      <td>1</td>\n",
       "      <td>0</td>\n",
       "      <td>0</td>\n",
       "      <td>0</td>\n",
       "      <td>0</td>\n",
       "    </tr>\n",
       "    <tr>\n",
       "      <th>105855578</th>\n",
       "      <td>2020-03-02</td>\n",
       "      <td>0</td>\n",
       "      <td>0.0000</td>\n",
       "      <td>0</td>\n",
       "      <td>0.0000</td>\n",
       "      <td>2</td>\n",
       "      <td>18.0000</td>\n",
       "      <td>0.1000</td>\n",
       "      <td>0.1500</td>\n",
       "      <td>0.0000</td>\n",
       "      <td>...</td>\n",
       "      <td>10</td>\n",
       "      <td>2</td>\n",
       "      <td>1</td>\n",
       "      <td>1</td>\n",
       "      <td>0</td>\n",
       "      <td>0</td>\n",
       "      <td>0</td>\n",
       "      <td>0</td>\n",
       "      <td>0</td>\n",
       "      <td>0</td>\n",
       "    </tr>\n",
       "    <tr>\n",
       "      <th>105875577</th>\n",
       "      <td>2020-12-25</td>\n",
       "      <td>0</td>\n",
       "      <td>0.0000</td>\n",
       "      <td>0</td>\n",
       "      <td>0.0000</td>\n",
       "      <td>3</td>\n",
       "      <td>98.0000</td>\n",
       "      <td>0.0000</td>\n",
       "      <td>0.0667</td>\n",
       "      <td>0.0000</td>\n",
       "      <td>...</td>\n",
       "      <td>52</td>\n",
       "      <td>25</td>\n",
       "      <td>5</td>\n",
       "      <td>0</td>\n",
       "      <td>0</td>\n",
       "      <td>0</td>\n",
       "      <td>0</td>\n",
       "      <td>1</td>\n",
       "      <td>0</td>\n",
       "      <td>0</td>\n",
       "    </tr>\n",
       "    <tr>\n",
       "      <th>105950349</th>\n",
       "      <td>2020-03-18</td>\n",
       "      <td>5</td>\n",
       "      <td>79.3333</td>\n",
       "      <td>3</td>\n",
       "      <td>242.0556</td>\n",
       "      <td>17</td>\n",
       "      <td>1142.8169</td>\n",
       "      <td>0.0068</td>\n",
       "      <td>0.0185</td>\n",
       "      <td>62.1689</td>\n",
       "      <td>...</td>\n",
       "      <td>12</td>\n",
       "      <td>18</td>\n",
       "      <td>3</td>\n",
       "      <td>0</td>\n",
       "      <td>0</td>\n",
       "      <td>1</td>\n",
       "      <td>0</td>\n",
       "      <td>0</td>\n",
       "      <td>0</td>\n",
       "      <td>0</td>\n",
       "    </tr>\n",
       "  </tbody>\n",
       "</table>\n",
       "<p>50 rows × 39 columns</p>\n",
       "</div>"
      ],
      "text/plain": [
       "                Date  AccountMng_Pages  AccountMng_Duration  FAQ_Pages  \\\n",
       "Access_ID                                                                \n",
       "102863333 2020-03-21                 0               0.0000          0   \n",
       "103117814 2020-05-20                 0               0.0000          0   \n",
       "103201891 2020-12-04                 0               0.0000          0   \n",
       "103226087 2020-12-22                 0               0.0000          0   \n",
       "103234445 2020-11-24                 0               0.0000          2   \n",
       "103237767 2020-03-04                 3              13.0000          0   \n",
       "103271040 2020-11-03                15             270.0167          3   \n",
       "103279585 2020-03-19                 0               0.0000          0   \n",
       "103348992 2020-03-26                 0               0.0000          0   \n",
       "103364259 2020-03-13                 0               0.0000          0   \n",
       "103374898 2020-05-29                 0               0.0000          1   \n",
       "103383824 2020-05-24                 0               0.0000          0   \n",
       "103429233 2020-12-20                 3              16.0000          0   \n",
       "103438335 2020-11-20                 0               0.0000          0   \n",
       "103570984 2020-12-07                 9             125.2500          0   \n",
       "103663338 2020-09-14                 0               0.0000          0   \n",
       "103674236 2020-12-22                 0               0.0000          0   \n",
       "103684633 2020-03-24                 0               0.0000          0   \n",
       "103710668 2020-05-21                 3             133.5000          4   \n",
       "103778619 2020-09-01                 0               0.0000          0   \n",
       "104035985 2020-05-10                 0               0.0000          0   \n",
       "104251107 2020-05-13                 6             450.4000          0   \n",
       "104263583 2020-05-01                 2              40.0000          0   \n",
       "104370542 2020-05-18                 0               0.0000          0   \n",
       "104451620 2020-11-20                 0               0.0000          0   \n",
       "104511063 2020-12-12                 3             875.0000          0   \n",
       "104571401 2020-12-21                 0               0.0000          0   \n",
       "104628103 2020-05-30                 1              32.0000          0   \n",
       "104650368 2020-11-05                 1               0.0000          0   \n",
       "104662870 2020-09-30                19             341.8167          1   \n",
       "104705625 2020-02-12                 2              31.0000          1   \n",
       "104809719 2020-12-15                 0               0.0000          0   \n",
       "104811953 2020-03-16                 3              16.3333          0   \n",
       "105045048 2020-09-06                 4             381.8000          0   \n",
       "105167940 2020-10-20                 1              19.2000          0   \n",
       "105311605 2020-05-28                 1               7.0000          0   \n",
       "105313007 2020-11-07                 0               0.0000          0   \n",
       "105317095 2020-05-02                 0               0.0000          0   \n",
       "105337816 2020-03-24                 4             539.5000          0   \n",
       "105399772 2020-11-25                 1              16.0000          0   \n",
       "105470965 2020-05-10                 6             141.5000          3   \n",
       "105527111 2020-09-06                 2             268.0800          0   \n",
       "105537587 2020-11-30                 1              73.0000          0   \n",
       "105593053 2020-12-08                 1               5.0000          0   \n",
       "105635569 2020-05-20                 0               0.0000          0   \n",
       "105730456 2020-11-16                 2              53.5000          0   \n",
       "105851108 2020-03-11                 2              95.5000          0   \n",
       "105855578 2020-03-02                 0               0.0000          0   \n",
       "105875577 2020-12-25                 0               0.0000          0   \n",
       "105950349 2020-03-18                 5              79.3333          3   \n",
       "\n",
       "           FAQ_Duration  Product_Pages  Product_Duration  \\\n",
       "Access_ID                                                  \n",
       "102863333        0.0000              3           64.0000   \n",
       "103117814        0.0000             23          684.5000   \n",
       "103201891        0.0000              8           95.0000   \n",
       "103226087        0.0000              9          608.7500   \n",
       "103234445      386.0000             36         1609.9397   \n",
       "103237767        0.0000             28          324.7692   \n",
       "103271040      122.0000             66         2780.6000   \n",
       "103279585        0.0000             12          249.5000   \n",
       "103348992        0.0000              3           30.0000   \n",
       "103364259        0.0000             17          469.4167   \n",
       "103374898        6.0000             13         2782.7500   \n",
       "103383824        0.0000             24          674.5000   \n",
       "103429233        0.0000             29          423.1667   \n",
       "103438335        0.0000              6          142.1250   \n",
       "103570984        0.0000              3          119.2500   \n",
       "103663338        0.0000             24         1884.7000   \n",
       "103674236        0.0000              1            0.0000   \n",
       "103684633        0.0000             31         1350.5000   \n",
       "103710668      191.0000             15          443.9333   \n",
       "103778619        0.0000              1            0.0000   \n",
       "104035985        0.0000              8          222.0000   \n",
       "104251107        0.0000              6           72.9000   \n",
       "104263583        0.0000             21         1494.5000   \n",
       "104370542        0.0000              2           23.0000   \n",
       "104451620        0.0000             16          381.2143   \n",
       "104511063        0.0000             34          780.7917   \n",
       "104571401        0.0000              1            0.0000   \n",
       "104628103        0.0000              9          455.0000   \n",
       "104650368        0.0000             14         1125.8750   \n",
       "104662870       51.4000            429         9661.5858   \n",
       "104705625       16.0000             36         2083.5310   \n",
       "104809719        0.0000              9          296.3929   \n",
       "104811953        0.0000             23          505.5833   \n",
       "105045048        0.0000              1           31.2000   \n",
       "105167940        0.0000             42         2197.0000   \n",
       "105311605        0.0000            151         2564.2782   \n",
       "105313007        0.0000              2           27.5000   \n",
       "105317095        0.0000              1            0.0000   \n",
       "105337816        0.0000              1            0.0000   \n",
       "105399772        0.0000             44         2939.6250   \n",
       "105470965      474.5000             46         1431.3333   \n",
       "105527111        0.0000             13          420.2467   \n",
       "105537587        0.0000             12         2156.5000   \n",
       "105593053        0.0000             29         3441.4393   \n",
       "105635569        0.0000              1            0.0000   \n",
       "105730456        0.0000             85         4478.6994   \n",
       "105851108        0.0000             13          334.5000   \n",
       "105855578        0.0000              2           18.0000   \n",
       "105875577        0.0000              3           98.0000   \n",
       "105950349      242.0556             17         1142.8169   \n",
       "\n",
       "           GoogleAnalytics_BounceRate  GoogleAnalytics_ExitRate  \\\n",
       "Access_ID                                                         \n",
       "102863333                      0.0000                    0.0667   \n",
       "103117814                      0.0217                    0.0449   \n",
       "103201891                      0.0250                    0.0583   \n",
       "103226087                      0.0000                    0.0250   \n",
       "103234445                      0.0000                    0.0093   \n",
       "103237767                      0.0000                    0.0017   \n",
       "103271040                      0.0000                    0.0165   \n",
       "103279585                      0.0056                    0.0250   \n",
       "103348992                      0.0000                    0.0667   \n",
       "103364259                      0.0000                    0.0118   \n",
       "103374898                      0.0000                    0.0051   \n",
       "103383824                      0.0417                    0.0625   \n",
       "103429233                      0.0103                    0.0299   \n",
       "103438335                      0.0000                    0.0333   \n",
       "103570984                      0.0000                    0.0250   \n",
       "103663338                      0.0320                    0.0680   \n",
       "103674236                      0.2000                    0.2000   \n",
       "103684633                      0.0065                    0.0161   \n",
       "103710668                      0.0000                    0.0200   \n",
       "103778619                      0.2000                    0.2000   \n",
       "104035985                      0.0000                    0.0286   \n",
       "104251107                      0.0000                    0.0286   \n",
       "104263583                      0.0091                    0.0045   \n",
       "104370542                      0.0000                    0.1000   \n",
       "104451620                      0.0125                    0.0224   \n",
       "104511063                      0.0000                    0.0157   \n",
       "104571401                      0.2000                    0.2000   \n",
       "104628103                      0.0000                    0.0222   \n",
       "104650368                      0.0000                    0.0429   \n",
       "104662870                      0.0030                    0.0125   \n",
       "104705625                      0.0000                    0.0135   \n",
       "104809719                      0.0000                    0.0250   \n",
       "104811953                      0.0080                    0.0300   \n",
       "105045048                      0.0000                    0.0400   \n",
       "105167940                      0.0000                    0.0136   \n",
       "105311605                      0.0092                    0.0211   \n",
       "105313007                      0.0000                    0.1000   \n",
       "105317095                      0.2000                    0.2000   \n",
       "105337816                      0.0000                    0.0500   \n",
       "105399772                      0.0000                    0.0022   \n",
       "105470965                      0.0037                    0.0154   \n",
       "105527111                      0.0421                    0.0649   \n",
       "105537587                      0.0182                    0.0273   \n",
       "105593053                      0.0071                    0.0057   \n",
       "105635569                      0.2000                    0.2000   \n",
       "105730456                      0.0024                    0.0162   \n",
       "105851108                      0.0000                    0.0027   \n",
       "105855578                      0.1000                    0.1500   \n",
       "105875577                      0.0000                    0.0667   \n",
       "105950349                      0.0068                    0.0185   \n",
       "\n",
       "           GoogleAnalytics_PageValue  ... Date_week  Date_day Date_dayofweek  \\\n",
       "Access_ID                             ...                                      \n",
       "102863333                     0.0000  ...        12        21              6   \n",
       "103117814                     0.0000  ...        21        20              3   \n",
       "103201891                     0.0000  ...        49         4              5   \n",
       "103226087                    42.4225  ...        52        22              2   \n",
       "103234445                    12.5033  ...        48        24              2   \n",
       "103237767                     0.0000  ...        10         4              3   \n",
       "103271040                     0.0000  ...        45         3              2   \n",
       "103279585                     0.0000  ...        12        19              4   \n",
       "103348992                     0.0000  ...        13        26              4   \n",
       "103364259                     0.0000  ...        11        13              5   \n",
       "103374898                     0.0000  ...        22        29              5   \n",
       "103383824                     0.0000  ...        21        24              7   \n",
       "103429233                     0.0000  ...        51        20              7   \n",
       "103438335                     0.0000  ...        47        20              5   \n",
       "103570984                     0.0000  ...        50         7              1   \n",
       "103663338                     0.0000  ...        38        14              1   \n",
       "103674236                     0.0000  ...        52        22              2   \n",
       "103684633                     0.0000  ...        13        24              2   \n",
       "103710668                     0.0000  ...        21        21              4   \n",
       "103778619                     0.0000  ...        36         1              2   \n",
       "104035985                    53.4746  ...        19        10              7   \n",
       "104251107                     0.0000  ...        20        13              3   \n",
       "104263583                     0.0000  ...        18         1              5   \n",
       "104370542                     0.0000  ...        21        18              1   \n",
       "104451620                     0.0000  ...        47        20              5   \n",
       "104511063                     0.0000  ...        50        12              6   \n",
       "104571401                     0.0000  ...        52        21              1   \n",
       "104628103                    18.6533  ...        22        30              6   \n",
       "104650368                     0.0000  ...        45         5              4   \n",
       "104662870                     3.4594  ...        40        30              3   \n",
       "104705625                     0.0000  ...         7        12              3   \n",
       "104809719                     0.0000  ...        51        15              2   \n",
       "104811953                     9.1501  ...        12        16              1   \n",
       "105045048                     0.0000  ...        36         6              7   \n",
       "105167940                     0.0000  ...        43        20              2   \n",
       "105311605                     0.0000  ...        22        28              4   \n",
       "105313007                     0.0000  ...        45         7              6   \n",
       "105317095                     0.0000  ...        18         2              6   \n",
       "105337816                     0.0000  ...        13        24              2   \n",
       "105399772                    32.8121  ...        48        25              3   \n",
       "105470965                     6.0767  ...        19        10              7   \n",
       "105527111                     0.0000  ...        36         6              7   \n",
       "105537587                    68.8877  ...        49        30              1   \n",
       "105593053                     0.0000  ...        50         8              2   \n",
       "105635569                     0.0000  ...        21        20              3   \n",
       "105730456                     0.0000  ...        47        16              1   \n",
       "105851108                     0.0000  ...        11        11              3   \n",
       "105855578                     0.0000  ...        10         2              1   \n",
       "105875577                     0.0000  ...        52        25              5   \n",
       "105950349                    62.1689  ...        12        18              3   \n",
       "\n",
       "           Date_dayofweek_1 Date_dayofweek_2  Date_dayofweek_3  \\\n",
       "Access_ID                                                        \n",
       "102863333                 0                0                 0   \n",
       "103117814                 0                0                 1   \n",
       "103201891                 0                0                 0   \n",
       "103226087                 0                1                 0   \n",
       "103234445                 0                1                 0   \n",
       "103237767                 0                0                 1   \n",
       "103271040                 0                1                 0   \n",
       "103279585                 0                0                 0   \n",
       "103348992                 0                0                 0   \n",
       "103364259                 0                0                 0   \n",
       "103374898                 0                0                 0   \n",
       "103383824                 0                0                 0   \n",
       "103429233                 0                0                 0   \n",
       "103438335                 0                0                 0   \n",
       "103570984                 1                0                 0   \n",
       "103663338                 1                0                 0   \n",
       "103674236                 0                1                 0   \n",
       "103684633                 0                1                 0   \n",
       "103710668                 0                0                 0   \n",
       "103778619                 0                1                 0   \n",
       "104035985                 0                0                 0   \n",
       "104251107                 0                0                 1   \n",
       "104263583                 0                0                 0   \n",
       "104370542                 1                0                 0   \n",
       "104451620                 0                0                 0   \n",
       "104511063                 0                0                 0   \n",
       "104571401                 1                0                 0   \n",
       "104628103                 0                0                 0   \n",
       "104650368                 0                0                 0   \n",
       "104662870                 0                0                 1   \n",
       "104705625                 0                0                 1   \n",
       "104809719                 0                1                 0   \n",
       "104811953                 1                0                 0   \n",
       "105045048                 0                0                 0   \n",
       "105167940                 0                1                 0   \n",
       "105311605                 0                0                 0   \n",
       "105313007                 0                0                 0   \n",
       "105317095                 0                0                 0   \n",
       "105337816                 0                1                 0   \n",
       "105399772                 0                0                 1   \n",
       "105470965                 0                0                 0   \n",
       "105527111                 0                0                 0   \n",
       "105537587                 1                0                 0   \n",
       "105593053                 0                1                 0   \n",
       "105635569                 0                0                 1   \n",
       "105730456                 1                0                 0   \n",
       "105851108                 0                0                 1   \n",
       "105855578                 1                0                 0   \n",
       "105875577                 0                0                 0   \n",
       "105950349                 0                0                 1   \n",
       "\n",
       "          Date_dayofweek_4  Date_dayofweek_5  Date_dayofweek_6  \\\n",
       "Access_ID                                                        \n",
       "102863333                0                 0                 1   \n",
       "103117814                0                 0                 0   \n",
       "103201891                0                 1                 0   \n",
       "103226087                0                 0                 0   \n",
       "103234445                0                 0                 0   \n",
       "103237767                0                 0                 0   \n",
       "103271040                0                 0                 0   \n",
       "103279585                1                 0                 0   \n",
       "103348992                1                 0                 0   \n",
       "103364259                0                 1                 0   \n",
       "103374898                0                 1                 0   \n",
       "103383824                0                 0                 0   \n",
       "103429233                0                 0                 0   \n",
       "103438335                0                 1                 0   \n",
       "103570984                0                 0                 0   \n",
       "103663338                0                 0                 0   \n",
       "103674236                0                 0                 0   \n",
       "103684633                0                 0                 0   \n",
       "103710668                1                 0                 0   \n",
       "103778619                0                 0                 0   \n",
       "104035985                0                 0                 0   \n",
       "104251107                0                 0                 0   \n",
       "104263583                0                 1                 0   \n",
       "104370542                0                 0                 0   \n",
       "104451620                0                 1                 0   \n",
       "104511063                0                 0                 1   \n",
       "104571401                0                 0                 0   \n",
       "104628103                0                 0                 1   \n",
       "104650368                1                 0                 0   \n",
       "104662870                0                 0                 0   \n",
       "104705625                0                 0                 0   \n",
       "104809719                0                 0                 0   \n",
       "104811953                0                 0                 0   \n",
       "105045048                0                 0                 0   \n",
       "105167940                0                 0                 0   \n",
       "105311605                1                 0                 0   \n",
       "105313007                0                 0                 1   \n",
       "105317095                0                 0                 1   \n",
       "105337816                0                 0                 0   \n",
       "105399772                0                 0                 0   \n",
       "105470965                0                 0                 0   \n",
       "105527111                0                 0                 0   \n",
       "105537587                0                 0                 0   \n",
       "105593053                0                 0                 0   \n",
       "105635569                0                 0                 0   \n",
       "105730456                0                 0                 0   \n",
       "105851108                0                 0                 0   \n",
       "105855578                0                 0                 0   \n",
       "105875577                0                 1                 0   \n",
       "105950349                0                 0                 0   \n",
       "\n",
       "           Date_dayofweek_7  \n",
       "Access_ID                    \n",
       "102863333                 0  \n",
       "103117814                 0  \n",
       "103201891                 0  \n",
       "103226087                 0  \n",
       "103234445                 0  \n",
       "103237767                 0  \n",
       "103271040                 0  \n",
       "103279585                 0  \n",
       "103348992                 0  \n",
       "103364259                 0  \n",
       "103374898                 0  \n",
       "103383824                 1  \n",
       "103429233                 1  \n",
       "103438335                 0  \n",
       "103570984                 0  \n",
       "103663338                 0  \n",
       "103674236                 0  \n",
       "103684633                 0  \n",
       "103710668                 0  \n",
       "103778619                 0  \n",
       "104035985                 1  \n",
       "104251107                 0  \n",
       "104263583                 0  \n",
       "104370542                 0  \n",
       "104451620                 0  \n",
       "104511063                 0  \n",
       "104571401                 0  \n",
       "104628103                 0  \n",
       "104650368                 0  \n",
       "104662870                 0  \n",
       "104705625                 0  \n",
       "104809719                 0  \n",
       "104811953                 0  \n",
       "105045048                 1  \n",
       "105167940                 0  \n",
       "105311605                 0  \n",
       "105313007                 0  \n",
       "105317095                 0  \n",
       "105337816                 0  \n",
       "105399772                 0  \n",
       "105470965                 1  \n",
       "105527111                 1  \n",
       "105537587                 0  \n",
       "105593053                 0  \n",
       "105635569                 0  \n",
       "105730456                 0  \n",
       "105851108                 0  \n",
       "105855578                 0  \n",
       "105875577                 0  \n",
       "105950349                 0  \n",
       "\n",
       "[50 rows x 39 columns]"
      ]
     },
     "execution_count": 25,
     "metadata": {},
     "output_type": "execute_result"
    }
   ],
   "source": [
    "train.head(50)"
   ]
  },
  {
   "cell_type": "markdown",
   "metadata": {},
   "source": [
    "# AccountMng"
   ]
  },
  {
   "cell_type": "code",
   "execution_count": 26,
   "metadata": {},
   "outputs": [],
   "source": [
    "# create AvgTimeAccountMng – average time a user spends on a accountmng website\n",
    "# additionally keep the AccountMng_Pages to capture how MANY pages user accesses"
   ]
  },
  {
   "cell_type": "code",
   "execution_count": 27,
   "metadata": {},
   "outputs": [],
   "source": [
    "train['AvgTimeAccountMng'] = train['AccountMng_Duration']/train['AccountMng_Pages']"
   ]
  },
  {
   "cell_type": "code",
   "execution_count": 28,
   "metadata": {
    "scrolled": true
   },
   "outputs": [],
   "source": [
    "train['AvgTimeAccountMng'] = train['AvgTimeAccountMng'].fillna(0)"
   ]
  },
  {
   "cell_type": "code",
   "execution_count": 29,
   "metadata": {},
   "outputs": [],
   "source": [
    "train['AvgTimeAccountMng_log'] = np.log(train['AvgTimeAccountMng']+1)"
   ]
  },
  {
   "cell_type": "code",
   "execution_count": 30,
   "metadata": {},
   "outputs": [],
   "source": [
    "min_max_scaler = preprocessing.MinMaxScaler()\n",
    "train['AvgTimeAccountMng_log_scaled'] = min_max_scaler.fit_transform(train[['AvgTimeAccountMng_log']])"
   ]
  },
  {
   "cell_type": "code",
   "execution_count": 31,
   "metadata": {},
   "outputs": [],
   "source": [
    "train['AccountMng_Duration_log'] = np.log(train['AccountMng_Duration']+1)\n",
    "\n",
    "min_max_scaler = preprocessing.MinMaxScaler()\n",
    "train['AccountMng_Duration_log_scaled'] = min_max_scaler.fit_transform(train[['AccountMng_Duration_log']])"
   ]
  },
  {
   "cell_type": "code",
   "execution_count": 32,
   "metadata": {},
   "outputs": [],
   "source": [
    "train['AccountMng_Pages_log'] = np.log(train['AccountMng_Pages']+1)\n",
    "\n",
    "min_max_scaler = preprocessing.MinMaxScaler()\n",
    "train['AccountMng_Pages_log_scaled'] = min_max_scaler.fit_transform(train[['AccountMng_Pages_log']])"
   ]
  },
  {
   "cell_type": "code",
   "execution_count": 33,
   "metadata": {},
   "outputs": [],
   "source": [
    "train['AccountMng_Duration_Pages_log_scaled_avg'] = (train['AccountMng_Duration_log_scaled'] + train['AccountMng_Pages_log_scaled'])/2"
   ]
  },
  {
   "cell_type": "code",
   "execution_count": 34,
   "metadata": {},
   "outputs": [
    {
     "data": {
      "text/plain": [
       "<AxesSubplot:ylabel='Frequency'>"
      ]
     },
     "execution_count": 34,
     "metadata": {},
     "output_type": "execute_result"
    },
    {
     "data": {
      "image/png": "[encoded data removed]",
      "text/plain": [
       "<Figure size 432x288 with 1 Axes>"
      ]
     },
     "metadata": {
      "needs_background": "light"
     },
     "output_type": "display_data"
    }
   ],
   "source": [
    "train['AccountMng_Duration_log_scaled'].plot.hist()"
   ]
  },
  {
   "cell_type": "code",
   "execution_count": 35,
   "metadata": {},
   "outputs": [
    {
     "data": {
      "text/plain": [
       "<AxesSubplot:ylabel='Frequency'>"
      ]
     },
     "execution_count": 35,
     "metadata": {},
     "output_type": "execute_result"
    },
    {
     "data": {
      "image/png": "[encoded data removed]",
      "text/plain": [
       "<Figure size 432x288 with 1 Axes>"
      ]
     },
     "metadata": {
      "needs_background": "light"
     },
     "output_type": "display_data"
    }
   ],
   "source": [
    "train['AccountMng_Pages_log_scaled'].plot.hist()"
   ]
  },
  {
   "cell_type": "code",
   "execution_count": 36,
   "metadata": {
    "scrolled": true
   },
   "outputs": [],
   "source": [
    "# keep duration due to 00Analysis"
   ]
  },
  {
   "cell_type": "code",
   "execution_count": 37,
   "metadata": {},
   "outputs": [
    {
     "data": {
      "text/plain": [
       "0"
      ]
     },
     "execution_count": 37,
     "metadata": {},
     "output_type": "execute_result"
    }
   ],
   "source": [
    "min(train.AccountMng_Pages)"
   ]
  },
  {
   "cell_type": "code",
   "execution_count": 38,
   "metadata": {},
   "outputs": [],
   "source": [
    "Labels = [0,1,2,3,4]\n",
    "train['AccountMng_PagesBINs'] = pd.cut(train['AccountMng_Pages'], \n",
    "                                 [0,1,4,6,10,27],\n",
    "                                      labels=Labels)\n",
    "train['AccountMng_PagesBINs'] = train.AccountMng_PagesBINs.fillna(0)"
   ]
  },
  {
   "cell_type": "code",
   "execution_count": 39,
   "metadata": {},
   "outputs": [
    {
     "data": {
      "text/html": [
       "<div>\n",
       "<style scoped>\n",
       "    .dataframe tbody tr th:only-of-type {\n",
       "        vertical-align: middle;\n",
       "    }\n",
       "\n",
       "    .dataframe tbody tr th {\n",
       "        vertical-align: top;\n",
       "    }\n",
       "\n",
       "    .dataframe thead th {\n",
       "        text-align: right;\n",
       "    }\n",
       "</style>\n",
       "<table border=\"1\" class=\"dataframe\">\n",
       "  <thead>\n",
       "    <tr style=\"text-align: right;\">\n",
       "      <th></th>\n",
       "      <th>Date</th>\n",
       "    </tr>\n",
       "    <tr>\n",
       "      <th>AccountMng_PagesBINs</th>\n",
       "      <th></th>\n",
       "    </tr>\n",
       "  </thead>\n",
       "  <tbody>\n",
       "    <tr>\n",
       "      <th>0</th>\n",
       "      <td>7101</td>\n",
       "    </tr>\n",
       "    <tr>\n",
       "      <th>1</th>\n",
       "      <td>2786</td>\n",
       "    </tr>\n",
       "    <tr>\n",
       "      <th>2</th>\n",
       "      <td>1006</td>\n",
       "    </tr>\n",
       "    <tr>\n",
       "      <th>3</th>\n",
       "      <td>1002</td>\n",
       "    </tr>\n",
       "    <tr>\n",
       "      <th>4</th>\n",
       "      <td>404</td>\n",
       "    </tr>\n",
       "  </tbody>\n",
       "</table>\n",
       "</div>"
      ],
      "text/plain": [
       "                      Date\n",
       "AccountMng_PagesBINs      \n",
       "0                     7101\n",
       "1                     2786\n",
       "2                     1006\n",
       "3                     1002\n",
       "4                      404"
      ]
     },
     "execution_count": 39,
     "metadata": {},
     "output_type": "execute_result"
    }
   ],
   "source": [
    "train.groupby(['AccountMng_PagesBINs']).count()[['Date']]"
   ]
  },
  {
   "cell_type": "code",
   "execution_count": 40,
   "metadata": {},
   "outputs": [
    {
     "data": {
      "text/html": [
       "<div>\n",
       "<style scoped>\n",
       "    .dataframe tbody tr th:only-of-type {\n",
       "        vertical-align: middle;\n",
       "    }\n",
       "\n",
       "    .dataframe tbody tr th {\n",
       "        vertical-align: top;\n",
       "    }\n",
       "\n",
       "    .dataframe thead th {\n",
       "        text-align: right;\n",
       "    }\n",
       "</style>\n",
       "<table border=\"1\" class=\"dataframe\">\n",
       "  <thead>\n",
       "    <tr style=\"text-align: right;\">\n",
       "      <th></th>\n",
       "      <th>Date</th>\n",
       "    </tr>\n",
       "    <tr>\n",
       "      <th>AccountMng_PagesBINs</th>\n",
       "      <th></th>\n",
       "    </tr>\n",
       "  </thead>\n",
       "  <tbody>\n",
       "    <tr>\n",
       "      <th>0</th>\n",
       "      <td>656</td>\n",
       "    </tr>\n",
       "    <tr>\n",
       "      <th>1</th>\n",
       "      <td>430</td>\n",
       "    </tr>\n",
       "    <tr>\n",
       "      <th>2</th>\n",
       "      <td>191</td>\n",
       "    </tr>\n",
       "    <tr>\n",
       "      <th>3</th>\n",
       "      <td>186</td>\n",
       "    </tr>\n",
       "    <tr>\n",
       "      <th>4</th>\n",
       "      <td>89</td>\n",
       "    </tr>\n",
       "  </tbody>\n",
       "</table>\n",
       "</div>"
      ],
      "text/plain": [
       "                      Date\n",
       "AccountMng_PagesBINs      \n",
       "0                      656\n",
       "1                      430\n",
       "2                      191\n",
       "3                      186\n",
       "4                       89"
      ]
     },
     "execution_count": 40,
     "metadata": {},
     "output_type": "execute_result"
    }
   ],
   "source": [
    "train[train['Buy']==1].groupby(['AccountMng_PagesBINs']).count()[['Date']]"
   ]
  },
  {
   "cell_type": "code",
   "execution_count": 41,
   "metadata": {},
   "outputs": [],
   "source": [
    "train['AccountMng_YesNo'] = train['AccountMng_Duration']\n",
    "train['AccountMng_YesNo'][train['AccountMng_YesNo'] != 0] = 1"
   ]
  },
  {
   "cell_type": "markdown",
   "metadata": {},
   "source": [
    "# FAQ"
   ]
  },
  {
   "cell_type": "code",
   "execution_count": 42,
   "metadata": {},
   "outputs": [],
   "source": [
    "# similar to AccountMng"
   ]
  },
  {
   "cell_type": "code",
   "execution_count": 43,
   "metadata": {},
   "outputs": [],
   "source": [
    "train['AvgTimeFAQ'] = train['FAQ_Duration']/train['FAQ_Pages']"
   ]
  },
  {
   "cell_type": "code",
   "execution_count": 44,
   "metadata": {},
   "outputs": [],
   "source": [
    "train['AvgTimeFAQ'] = train['AvgTimeFAQ'].fillna(0)"
   ]
  },
  {
   "cell_type": "code",
   "execution_count": 45,
   "metadata": {},
   "outputs": [],
   "source": [
    "train['AvgTimeFAQ_log'] = np.log(train['AvgTimeFAQ']+1)\n",
    "\n",
    "min_max_scaler = preprocessing.MinMaxScaler()\n",
    "train['AvgTimeFAQ_log_scaled'] = min_max_scaler.fit_transform(train[['AvgTimeFAQ_log']])"
   ]
  },
  {
   "cell_type": "code",
   "execution_count": 46,
   "metadata": {},
   "outputs": [],
   "source": [
    "train['FAQ_Pages_log'] = np.log(train['FAQ_Pages']+1)\n",
    "\n",
    "min_max_scaler = preprocessing.MinMaxScaler()\n",
    "train['FAQ_Pages_log_scaled'] = min_max_scaler.fit_transform(train[['FAQ_Pages_log']])"
   ]
  },
  {
   "cell_type": "code",
   "execution_count": 47,
   "metadata": {},
   "outputs": [],
   "source": [
    "train['FAQ_Duration_log'] = np.log(train['FAQ_Duration']+1)\n",
    "\n",
    "min_max_scaler = preprocessing.MinMaxScaler()\n",
    "train['FAQ_Duration_log_scaled'] = min_max_scaler.fit_transform(train[['FAQ_Duration_log']])"
   ]
  },
  {
   "cell_type": "code",
   "execution_count": 48,
   "metadata": {},
   "outputs": [],
   "source": [
    "train['FAQ_Duration_Pages_log_scaled_avg'] = (train['FAQ_Duration_log_scaled'] + train['FAQ_Pages_log_scaled'])/2"
   ]
  },
  {
   "cell_type": "code",
   "execution_count": 49,
   "metadata": {},
   "outputs": [],
   "source": [
    "# keep pages due to 00Analysis"
   ]
  },
  {
   "cell_type": "code",
   "execution_count": 50,
   "metadata": {},
   "outputs": [],
   "source": [
    "train['FAQ_YesNo'] = train['FAQ_Duration']\n",
    "train['FAQ_YesNo'][train['FAQ_YesNo'] != 0] = 1"
   ]
  },
  {
   "cell_type": "markdown",
   "metadata": {},
   "source": [
    "# Product"
   ]
  },
  {
   "cell_type": "code",
   "execution_count": 51,
   "metadata": {},
   "outputs": [],
   "source": [
    "# similar to AccountMng"
   ]
  },
  {
   "cell_type": "code",
   "execution_count": 52,
   "metadata": {},
   "outputs": [],
   "source": [
    "train['AvgTimeProduct'] = train['Product_Duration']/train['Product_Pages']"
   ]
  },
  {
   "cell_type": "code",
   "execution_count": 53,
   "metadata": {},
   "outputs": [],
   "source": [
    "train['AvgTimeProduct'] = train['AvgTimeProduct'].fillna(0)"
   ]
  },
  {
   "cell_type": "code",
   "execution_count": 54,
   "metadata": {},
   "outputs": [],
   "source": [
    "train['AvgTimeProduct_log'] = np.log(train['AvgTimeProduct']+1)\n",
    "\n",
    "min_max_scaler = preprocessing.MinMaxScaler()\n",
    "train['AvgTimeProduct_log_scaled'] = min_max_scaler.fit_transform(train[['AvgTimeProduct_log']])"
   ]
  },
  {
   "cell_type": "code",
   "execution_count": 55,
   "metadata": {},
   "outputs": [],
   "source": [
    "train['Product_Pages_log'] = np.log(train['Product_Pages']+1)\n",
    "\n",
    "min_max_scaler = preprocessing.MinMaxScaler()\n",
    "train['Product_Pages_log_scaled'] = min_max_scaler.fit_transform(train[['Product_Pages_log']])"
   ]
  },
  {
   "cell_type": "code",
   "execution_count": 56,
   "metadata": {},
   "outputs": [],
   "source": [
    "train['Product_Duration_log'] = np.log(train['Product_Duration']+1)\n",
    "\n",
    "min_max_scaler = preprocessing.MinMaxScaler()\n",
    "train['Product_Duration_log_scaled'] = min_max_scaler.fit_transform(train[['Product_Duration_log']])"
   ]
  },
  {
   "cell_type": "code",
   "execution_count": 57,
   "metadata": {},
   "outputs": [],
   "source": [
    "train['Product_Duration_Pages_log_scaled_avg'] = (train['Product_Duration_log_scaled'] + train['Product_Pages_log_scaled'])/2"
   ]
  },
  {
   "cell_type": "code",
   "execution_count": 58,
   "metadata": {},
   "outputs": [],
   "source": [
    "# keep pages due to 00Analysis"
   ]
  },
  {
   "cell_type": "code",
   "execution_count": 59,
   "metadata": {},
   "outputs": [],
   "source": [
    "train['Product_YesNo'] = train['Product_Duration']\n",
    "train['Product_YesNo'][train['Product_YesNo'] != 0] = 1"
   ]
  },
  {
   "cell_type": "markdown",
   "metadata": {},
   "source": [
    "# Total time and pages"
   ]
  },
  {
   "cell_type": "code",
   "execution_count": 60,
   "metadata": {},
   "outputs": [],
   "source": [
    "train['TotalPages'] = train['Product_Pages'] + train['FAQ_Pages'] + train['AccountMng_Pages'] "
   ]
  },
  {
   "cell_type": "code",
   "execution_count": 61,
   "metadata": {},
   "outputs": [],
   "source": [
    "train['AcctPageTime'] = train['Product_Pages'] + train['AccountMng_Pages'] "
   ]
  },
  {
   "cell_type": "code",
   "execution_count": 62,
   "metadata": {},
   "outputs": [],
   "source": [
    "train['TotalTime'] = train['Product_Duration'] + train['FAQ_Duration'] + train['AccountMng_Duration'] "
   ]
  },
  {
   "cell_type": "code",
   "execution_count": 63,
   "metadata": {},
   "outputs": [],
   "source": [
    "train['TotalTime_log'] = np.log(train['TotalTime']+1)\n",
    "\n",
    "min_max_scaler = preprocessing.MinMaxScaler()\n",
    "train['TotalTime_log_scaled'] = min_max_scaler.fit_transform(train[['TotalTime_log']])"
   ]
  },
  {
   "cell_type": "markdown",
   "metadata": {},
   "source": [
    "New Features here from Marco about time"
   ]
  },
  {
   "cell_type": "code",
   "execution_count": 64,
   "metadata": {},
   "outputs": [],
   "source": [
    "train['AcctPageTimeTO30'] = train.AcctPageTime.apply(lambda x: 1 if (x <=1800) else 0)"
   ]
  },
  {
   "cell_type": "code",
   "execution_count": 65,
   "metadata": {},
   "outputs": [],
   "source": [
    "train['AcctPageTime31TO60'] = train.AcctPageTime.apply(lambda x: 1 if ((x <= 3600) & (x > 1800)) else 0)"
   ]
  },
  {
   "cell_type": "code",
   "execution_count": 66,
   "metadata": {},
   "outputs": [],
   "source": [
    "train['time0TO5'] = train.TotalTime.apply(lambda x: 1 if (x > 300) else 0)"
   ]
  },
  {
   "cell_type": "code",
   "execution_count": 67,
   "metadata": {},
   "outputs": [],
   "source": [
    "train['time5TO30'] = train.TotalTime.apply(lambda x: 1 if ((x <= 1800) & (x >= 300)) else 0)"
   ]
  },
  {
   "cell_type": "code",
   "execution_count": 68,
   "metadata": {},
   "outputs": [],
   "source": [
    "train['time31TO60'] = train.TotalTime.apply(lambda x: 1 if ((x <= 3600) & (x > 1800)) else 0)"
   ]
  },
  {
   "cell_type": "code",
   "execution_count": 69,
   "metadata": {},
   "outputs": [],
   "source": [
    "train['time61UP'] = train.TotalTime.apply(lambda x: 1 if (x < 3600) else 0)"
   ]
  },
  {
   "cell_type": "markdown",
   "metadata": {},
   "source": [
    "End of time features"
   ]
  },
  {
   "cell_type": "code",
   "execution_count": 70,
   "metadata": {},
   "outputs": [],
   "source": [
    "train['TotalPages_log'] = np.log(train['TotalPages']+1)\n",
    "\n",
    "min_max_scaler = preprocessing.MinMaxScaler()\n",
    "train['TotalPages_log_scaled'] = min_max_scaler.fit_transform(train[['TotalPages_log']])"
   ]
  },
  {
   "cell_type": "code",
   "execution_count": 71,
   "metadata": {},
   "outputs": [],
   "source": [
    "train['totalTimePages_avg'] = (train['TotalTime_log_scaled'] + train['TotalPages_log_scaled'])/2"
   ]
  },
  {
   "cell_type": "code",
   "execution_count": 72,
   "metadata": {},
   "outputs": [],
   "source": [
    "# share of pages and duration of AccountMng relative to total pages and duration\n",
    "train['TimeRelativeShareAccountMng'] = train['AccountMng_Duration']/train['TotalTime']\n",
    "train['PagesRelativeShareAccountMng'] = train['AccountMng_Pages']/train['TotalPages']"
   ]
  },
  {
   "cell_type": "code",
   "execution_count": 73,
   "metadata": {},
   "outputs": [],
   "source": [
    "train['TimeRelativeShareAccountMng'] = train['TimeRelativeShareAccountMng'].fillna(0)\n",
    "train['PagesRelativeShareAccountMng'] = train['PagesRelativeShareAccountMng'].fillna(0)"
   ]
  },
  {
   "cell_type": "code",
   "execution_count": 74,
   "metadata": {},
   "outputs": [],
   "source": [
    "train['TimePagesRelativeShareAccountMng_avg'] = (train['TimeRelativeShareAccountMng']+train['PagesRelativeShareAccountMng'])/2"
   ]
  },
  {
   "cell_type": "code",
   "execution_count": 75,
   "metadata": {},
   "outputs": [],
   "source": [
    "# share of pages and duration of FAQ relative to total pages and duration\n",
    "train['TimeRelativeShareFAQ'] = train['FAQ_Duration']/train['TotalTime']\n",
    "train['PagesRelativeShareFAQ'] = train['FAQ_Pages']/train['TotalPages']"
   ]
  },
  {
   "cell_type": "code",
   "execution_count": 76,
   "metadata": {},
   "outputs": [],
   "source": [
    "train['TimeRelativeShareFAQ'] = train['TimeRelativeShareFAQ'].fillna(0)\n",
    "train['PagesRelativeShareFAQ'] = train['PagesRelativeShareFAQ'].fillna(0)"
   ]
  },
  {
   "cell_type": "code",
   "execution_count": 77,
   "metadata": {},
   "outputs": [],
   "source": [
    "train['TimePagesRelativeShareFAQ_avg'] = (train['TimeRelativeShareFAQ']+train['PagesRelativeShareFAQ'])/2"
   ]
  },
  {
   "cell_type": "code",
   "execution_count": 78,
   "metadata": {},
   "outputs": [],
   "source": [
    "# share of pages and duration of FAQ relative to total pages and duration\n",
    "train['TimeRelativeShareProduct'] = train['Product_Duration']/train['TotalTime']\n",
    "train['PagesRelativeShareProduct'] = train['Product_Pages']/train['TotalPages']"
   ]
  },
  {
   "cell_type": "code",
   "execution_count": 79,
   "metadata": {},
   "outputs": [],
   "source": [
    "train['TimeRelativeShareProduct'] = train['TimeRelativeShareProduct'].fillna(0)\n",
    "train['PagesRelativeShareProduct'] = train['PagesRelativeShareProduct'].fillna(0)"
   ]
  },
  {
   "cell_type": "code",
   "execution_count": 80,
   "metadata": {},
   "outputs": [],
   "source": [
    "train['TimePagesRelativeShareProduct_avg'] = (train['TimeRelativeShareProduct']+train['PagesRelativeShareProduct'])/2"
   ]
  },
  {
   "cell_type": "code",
   "execution_count": 81,
   "metadata": {},
   "outputs": [],
   "source": [
    "train = train.drop(['TotalPages_log_scaled', \n",
    "                    'TotalTime_log_scaled',\n",
    "                    'TimeRelativeShareFAQ',\n",
    "                    'PagesRelativeShareFAQ',\n",
    "                    'TimeRelativeShareAccountMng',\n",
    "                    'PagesRelativeShareAccountMng',\n",
    "                    'TimeRelativeShareProduct',\n",
    "                    'PagesRelativeShareProduct',\n",
    "                    'Product_Duration_log_scaled',\n",
    "                    'Product_Pages_log_scaled',\n",
    "                    'FAQ_Duration_log_scaled',\n",
    "                    'FAQ_Pages_log_scaled',\n",
    "                    'AccountMng_Duration_log_scaled',\n",
    "                    'AccountMng_Pages_log_scaled'\n",
    "                    ], axis=1)"
   ]
  },
  {
   "cell_type": "code",
   "execution_count": 82,
   "metadata": {},
   "outputs": [],
   "source": [
    "train['PTimeP'] = train.apply(lambda x: \n",
    "                              round((x['Product_Duration']/x['TotalTime'])*100) if x['TotalTime']>0 else 0, \n",
    "                              axis=1)\n",
    "train['FTimeP'] = train.apply(lambda x: \n",
    "                              round((x['FAQ_Duration']/x['TotalTime'])*100) if x['TotalTime']>0 \n",
    "                              else 0, axis=1)\n",
    "train['ATimeP'] = train.apply(lambda x: \n",
    "                              round((x['AccountMng_Duration']/x['TotalTime'])*100) if x['TotalTime']>0 \n",
    "                              else 0, axis=1)\n",
    "train['APTimeP'] = train.apply(lambda x: \n",
    "                              round(((x['AccountMng_Duration']+x['Product_Duration'])/x['TotalTime'])*100) if x['TotalTime']>0 \n",
    "                              else 0, axis=1)"
   ]
  },
  {
   "cell_type": "code",
   "execution_count": 83,
   "metadata": {},
   "outputs": [],
   "source": [
    "train['FT10'] = train.FTimeP.apply(lambda x: 1 if x>=10 else 0)\n",
    "train['FT05'] = train.FTimeP.apply(lambda x: 1 if x>=5 else 0)\n",
    "train['FT15'] = train.FTimeP.apply(lambda x: 1 if x>=15 else 0)\n",
    "train['FT20'] = train.FTimeP.apply(lambda x: 1 if x>=20 else 0)\n",
    "\n",
    "\n",
    "train['APT90'] = train.APTimeP.apply(lambda x: 1 if x<=90 else 0)\n",
    "train['APT95'] = train.APTimeP.apply(lambda x: 1 if x<=95 else 0)\n",
    "train['APT85'] = train.APTimeP.apply(lambda x: 1 if x<=85 else 0)\n",
    "train['APT80'] = train.APTimeP.apply(lambda x: 1 if x<=80 else 0)\n",
    "\n",
    "train['FAPT1090'] = train.apply(lambda x: 1 if ( (x['FTimeP']>=10) & (x['APTimeP']<=90)) else 0, axis=1)\n",
    "train['FAPT0590'] = train.apply(lambda x: 1 if ( (x['FTimeP']>=5) & (x['APTimeP']<=90)) else 0, axis=1)\n",
    "\n",
    "train['FAPT1095'] = train.apply(lambda x: 1 if ( (x['FTimeP']>=10) & (x['APTimeP']<=95)) else 0, axis=1)\n",
    "train['FAPT0595'] = train.apply(lambda x: 1 if ( (x['FTimeP']>=5) & (x['APTimeP']<=95)) else 0, axis=1)\n"
   ]
  },
  {
   "cell_type": "code",
   "execution_count": 84,
   "metadata": {},
   "outputs": [],
   "source": [
    "#trainx = train[train['Type_of_Traffic']==2]\n",
    "\n",
    "Label = [5,15,25,30,60,90]\n",
    "\n",
    "train['APTime'] = train.apply(lambda x: \n",
    "                              x['AccountMng_Duration']+x['Product_Duration'], axis=1)\n",
    "\n",
    "train['APTimeBins'] = pd.cut(train['APTime'], \n",
    "                                 [min(train['APTime']),\n",
    "                                    300, 900,1500, 1800, 3600,\n",
    "                                    max(train['APTime'])],\n",
    "                            labels=Label)"
   ]
  },
  {
   "cell_type": "code",
   "execution_count": 85,
   "metadata": {},
   "outputs": [],
   "source": [
    "\n",
    "trainx = train[train['Type_of_Visitor']=='New_Access']\n",
    "\n",
    "trainx['APTime'] = trainx.apply(lambda x: \n",
    "                              x['AccountMng_Duration']+x['Product_Duration'], axis=1)\n",
    "\n",
    "trainx['APTimeBins'] = pd.cut(trainx['APTime'], \n",
    "                                 [min(trainx['APTime']),\n",
    "                                    300, 1500, 1800, 3600,\n",
    "                                    max(trainx['APTime'])])"
   ]
  },
  {
   "cell_type": "code",
   "execution_count": 86,
   "metadata": {},
   "outputs": [],
   "source": [
    "train['Visit25'] = train.apply(lambda x: 1 if((x['Type_of_Visitor']=='New_Access') & (x['APTime'] > 1800)) else 0, \n",
    "                             axis=1)\n",
    "train['Traffic25'] = train.apply(lambda x: 1 if((x['Type_of_Traffic']==2) & (x['APTime'] > 1800)) else 0, \n",
    "                             axis=1)"
   ]
  },
  {
   "cell_type": "code",
   "execution_count": 87,
   "metadata": {},
   "outputs": [
    {
     "data": {
      "text/html": [
       "<div>\n",
       "<style scoped>\n",
       "    .dataframe tbody tr th:only-of-type {\n",
       "        vertical-align: middle;\n",
       "    }\n",
       "\n",
       "    .dataframe tbody tr th {\n",
       "        vertical-align: top;\n",
       "    }\n",
       "\n",
       "    .dataframe thead tr th {\n",
       "        text-align: left;\n",
       "    }\n",
       "</style>\n",
       "<table border=\"1\" class=\"dataframe\">\n",
       "  <thead>\n",
       "    <tr>\n",
       "      <th></th>\n",
       "      <th>APTimeBins</th>\n",
       "      <th colspan=\"2\" halign=\"left\">Buy</th>\n",
       "    </tr>\n",
       "    <tr>\n",
       "      <th></th>\n",
       "      <th></th>\n",
       "      <th>sum</th>\n",
       "      <th>count</th>\n",
       "    </tr>\n",
       "  </thead>\n",
       "  <tbody>\n",
       "    <tr>\n",
       "      <th>0</th>\n",
       "      <td>5</td>\n",
       "      <td>156.0</td>\n",
       "      <td>2476</td>\n",
       "    </tr>\n",
       "    <tr>\n",
       "      <th>1</th>\n",
       "      <td>15</td>\n",
       "      <td>452.0</td>\n",
       "      <td>2804</td>\n",
       "    </tr>\n",
       "    <tr>\n",
       "      <th>2</th>\n",
       "      <td>25</td>\n",
       "      <td>309.0</td>\n",
       "      <td>1452</td>\n",
       "    </tr>\n",
       "    <tr>\n",
       "      <th>3</th>\n",
       "      <td>30</td>\n",
       "      <td>91.0</td>\n",
       "      <td>500</td>\n",
       "    </tr>\n",
       "    <tr>\n",
       "      <th>4</th>\n",
       "      <td>60</td>\n",
       "      <td>315.0</td>\n",
       "      <td>1395</td>\n",
       "    </tr>\n",
       "    <tr>\n",
       "      <th>5</th>\n",
       "      <td>90</td>\n",
       "      <td>227.0</td>\n",
       "      <td>768</td>\n",
       "    </tr>\n",
       "  </tbody>\n",
       "</table>\n",
       "</div>"
      ],
      "text/plain": [
       "  APTimeBins    Buy      \n",
       "                sum count\n",
       "0          5  156.0  2476\n",
       "1         15  452.0  2804\n",
       "2         25  309.0  1452\n",
       "3         30   91.0   500\n",
       "4         60  315.0  1395\n",
       "5         90  227.0   768"
      ]
     },
     "execution_count": 87,
     "metadata": {},
     "output_type": "execute_result"
    }
   ],
   "source": [
    "train.groupby(['APTimeBins']).agg({'Buy':['sum','count']}).reset_index()"
   ]
  },
  {
   "cell_type": "markdown",
   "metadata": {},
   "source": [
    "# Google"
   ]
  },
  {
   "cell_type": "code",
   "execution_count": 88,
   "metadata": {},
   "outputs": [],
   "source": [
    "train['Less5minExit'] = train.apply(lambda x: \n",
    "                                1 if (x.TotalTime<301) & (x.GoogleAnalytics_ExitRate >0.041) else 0, \n",
    "                                axis=1)\n",
    "train['Less5minPValue'] = train.apply(lambda x: \n",
    "                                1 if (x.TotalTime<301) & (x.GoogleAnalytics_PageValue <22) else 0, \n",
    "                                axis=1)"
   ]
  },
  {
   "cell_type": "code",
   "execution_count": 89,
   "metadata": {},
   "outputs": [],
   "source": [
    "# skip BounceRate and focus on ExitRate"
   ]
  },
  {
   "cell_type": "code",
   "execution_count": 90,
   "metadata": {},
   "outputs": [],
   "source": [
    "# scaled Exit Rate\n",
    "min_max_scaler = preprocessing.MinMaxScaler()\n",
    "train['GoogleAnalytics_ExitRate_scaled'] = min_max_scaler.fit_transform(train[['GoogleAnalytics_ExitRate']])"
   ]
  },
  {
   "cell_type": "code",
   "execution_count": 91,
   "metadata": {},
   "outputs": [],
   "source": [
    "# equally distributed buckets\n",
    "bin_labels = [1,2,3,4,5,6,7,8,9,10]\n",
    "train['quantile_buckets10'] = pd.qcut(train['GoogleAnalytics_ExitRate'], q=10)\n",
    "train['GoogleAnalytics_ExitRate_buckets10'] = pd.qcut(train['GoogleAnalytics_ExitRate'],\n",
    "                              q=[0, .1, .2, .3, .4, .5, .6, .7, .8, .9, 1],\n",
    "                              labels=bin_labels)"
   ]
  },
  {
   "cell_type": "code",
   "execution_count": 92,
   "metadata": {},
   "outputs": [
    {
     "data": {
      "text/html": [
       "<div>\n",
       "<style scoped>\n",
       "    .dataframe tbody tr th:only-of-type {\n",
       "        vertical-align: middle;\n",
       "    }\n",
       "\n",
       "    .dataframe tbody tr th {\n",
       "        vertical-align: top;\n",
       "    }\n",
       "\n",
       "    .dataframe thead th {\n",
       "        text-align: right;\n",
       "    }\n",
       "</style>\n",
       "<table border=\"1\" class=\"dataframe\">\n",
       "  <thead>\n",
       "    <tr style=\"text-align: right;\">\n",
       "      <th></th>\n",
       "      <th>GoogleAnalytics_ExitRate</th>\n",
       "      <th>GoogleAnalytics_ExitRate_buckets10</th>\n",
       "      <th>quantile_buckets10</th>\n",
       "    </tr>\n",
       "    <tr>\n",
       "      <th>Access_ID</th>\n",
       "      <th></th>\n",
       "      <th></th>\n",
       "      <th></th>\n",
       "    </tr>\n",
       "  </thead>\n",
       "  <tbody>\n",
       "    <tr>\n",
       "      <th>102863333</th>\n",
       "      <td>0.0667</td>\n",
       "      <td>9</td>\n",
       "      <td>(0.0583, 0.1]</td>\n",
       "    </tr>\n",
       "    <tr>\n",
       "      <th>103117814</th>\n",
       "      <td>0.0449</td>\n",
       "      <td>8</td>\n",
       "      <td>(0.0413, 0.0583]</td>\n",
       "    </tr>\n",
       "    <tr>\n",
       "      <th>103201891</th>\n",
       "      <td>0.0583</td>\n",
       "      <td>8</td>\n",
       "      <td>(0.0413, 0.0583]</td>\n",
       "    </tr>\n",
       "    <tr>\n",
       "      <th>103226087</th>\n",
       "      <td>0.0250</td>\n",
       "      <td>5</td>\n",
       "      <td>(0.0205, 0.0251]</td>\n",
       "    </tr>\n",
       "    <tr>\n",
       "      <th>103234445</th>\n",
       "      <td>0.0093</td>\n",
       "      <td>2</td>\n",
       "      <td>(0.0074, 0.0121]</td>\n",
       "    </tr>\n",
       "    <tr>\n",
       "      <th>...</th>\n",
       "      <td>...</td>\n",
       "      <td>...</td>\n",
       "      <td>...</td>\n",
       "    </tr>\n",
       "    <tr>\n",
       "      <th>962042726</th>\n",
       "      <td>0.0221</td>\n",
       "      <td>5</td>\n",
       "      <td>(0.0205, 0.0251]</td>\n",
       "    </tr>\n",
       "    <tr>\n",
       "      <th>962063064</th>\n",
       "      <td>0.1000</td>\n",
       "      <td>9</td>\n",
       "      <td>(0.0583, 0.1]</td>\n",
       "    </tr>\n",
       "    <tr>\n",
       "      <th>962147749</th>\n",
       "      <td>0.0250</td>\n",
       "      <td>5</td>\n",
       "      <td>(0.0205, 0.0251]</td>\n",
       "    </tr>\n",
       "    <tr>\n",
       "      <th>962182167</th>\n",
       "      <td>0.0500</td>\n",
       "      <td>8</td>\n",
       "      <td>(0.0413, 0.0583]</td>\n",
       "    </tr>\n",
       "    <tr>\n",
       "      <th>962218682</th>\n",
       "      <td>0.0367</td>\n",
       "      <td>7</td>\n",
       "      <td>(0.0328, 0.0413]</td>\n",
       "    </tr>\n",
       "  </tbody>\n",
       "</table>\n",
       "<p>12299 rows × 3 columns</p>\n",
       "</div>"
      ],
      "text/plain": [
       "           GoogleAnalytics_ExitRate GoogleAnalytics_ExitRate_buckets10  \\\n",
       "Access_ID                                                                \n",
       "102863333                    0.0667                                  9   \n",
       "103117814                    0.0449                                  8   \n",
       "103201891                    0.0583                                  8   \n",
       "103226087                    0.0250                                  5   \n",
       "103234445                    0.0093                                  2   \n",
       "...                             ...                                ...   \n",
       "962042726                    0.0221                                  5   \n",
       "962063064                    0.1000                                  9   \n",
       "962147749                    0.0250                                  5   \n",
       "962182167                    0.0500                                  8   \n",
       "962218682                    0.0367                                  7   \n",
       "\n",
       "          quantile_buckets10  \n",
       "Access_ID                     \n",
       "102863333      (0.0583, 0.1]  \n",
       "103117814   (0.0413, 0.0583]  \n",
       "103201891   (0.0413, 0.0583]  \n",
       "103226087   (0.0205, 0.0251]  \n",
       "103234445   (0.0074, 0.0121]  \n",
       "...                      ...  \n",
       "962042726   (0.0205, 0.0251]  \n",
       "962063064      (0.0583, 0.1]  \n",
       "962147749   (0.0205, 0.0251]  \n",
       "962182167   (0.0413, 0.0583]  \n",
       "962218682   (0.0328, 0.0413]  \n",
       "\n",
       "[12299 rows x 3 columns]"
      ]
     },
     "execution_count": 92,
     "metadata": {},
     "output_type": "execute_result"
    }
   ],
   "source": [
    "train[['GoogleAnalytics_ExitRate', 'GoogleAnalytics_ExitRate_buckets10', 'quantile_buckets10']]"
   ]
  },
  {
   "cell_type": "code",
   "execution_count": 93,
   "metadata": {},
   "outputs": [],
   "source": [
    "min_max_scaler = preprocessing.MinMaxScaler()\n",
    "train['GoogleAnalytics_ExitRate_buckets10_scaled'] = min_max_scaler.fit_transform(train[['GoogleAnalytics_ExitRate_buckets10']])"
   ]
  },
  {
   "cell_type": "markdown",
   "metadata": {},
   "source": [
    "### GoogleAnalytics_BounceRate"
   ]
  },
  {
   "cell_type": "code",
   "execution_count": 94,
   "metadata": {},
   "outputs": [],
   "source": [
    "# scaled Exit Rate\n",
    "min_max_scaler = preprocessing.MinMaxScaler()\n",
    "train['GoogleAnalytics_BounceRate_scaled'] = min_max_scaler.fit_transform(train[['GoogleAnalytics_BounceRate']])"
   ]
  },
  {
   "cell_type": "markdown",
   "metadata": {},
   "source": [
    "# GoogleAnalyticsPageValue"
   ]
  },
  {
   "cell_type": "code",
   "execution_count": 95,
   "metadata": {},
   "outputs": [],
   "source": [
    "train['GoogleAnalytics_PageValue_01'] = train['GoogleAnalytics_PageValue']\n",
    "train['GoogleAnalytics_PageValue_01'][train['GoogleAnalytics_PageValue_01'] != 0] = 1"
   ]
  },
  {
   "cell_type": "code",
   "execution_count": 96,
   "metadata": {},
   "outputs": [],
   "source": [
    "train['GoogleAnalytics_PageValue_log'] = np.log(train['GoogleAnalytics_PageValue']+1)\n",
    "\n",
    "min_max_scaler = preprocessing.MinMaxScaler()\n",
    "train['GoogleAnalytics_PageValue_log_scaled'] = min_max_scaler.fit_transform(train[['GoogleAnalytics_PageValue_log']])"
   ]
  },
  {
   "cell_type": "markdown",
   "metadata": {},
   "source": [
    "New Features here about PageValue from Marco"
   ]
  },
  {
   "cell_type": "code",
   "execution_count": 97,
   "metadata": {},
   "outputs": [],
   "source": [
    "train['GoogleAnalytics_PageValue_53'] = train.GoogleAnalytics_PageValue.apply(lambda x: \n",
    "                                                                              1 if x >= 53 else 0)"
   ]
  },
  {
   "cell_type": "code",
   "execution_count": 98,
   "metadata": {},
   "outputs": [],
   "source": [
    "train['GoogleAnalytics_PageValue_32'] = train.GoogleAnalytics_PageValue.apply(lambda x: \n",
    "                                                                              1 if x >= 32 else 0)"
   ]
  },
  {
   "cell_type": "code",
   "execution_count": 99,
   "metadata": {},
   "outputs": [],
   "source": [
    "train['GoogleAnalytics_PageValue_22'] = train.GoogleAnalytics_PageValue.apply(lambda x: \n",
    "                                                                              1 if x >= 22 else 0)"
   ]
  },
  {
   "cell_type": "code",
   "execution_count": 100,
   "metadata": {},
   "outputs": [],
   "source": [
    "train['GoogleAnalytics_PageValue_22TO32'] = train.GoogleAnalytics_PageValue.apply(lambda x: \n",
    "                                                                              1 if ((x < 32) & (x > 21)) else 0)"
   ]
  },
  {
   "cell_type": "code",
   "execution_count": 101,
   "metadata": {},
   "outputs": [],
   "source": [
    "train['GoogleAnalytics_PageValue_7'] = train.GoogleAnalytics_PageValue.apply(lambda x: \n",
    "                                                                              1 if ((x < 8) & (x > 1.39)) else 0)"
   ]
  },
  {
   "cell_type": "code",
   "execution_count": 102,
   "metadata": {},
   "outputs": [],
   "source": [
    "train['GoogleAnalytics_PageValue_1'] = train.GoogleAnalytics_PageValue.apply(lambda x: \n",
    "                                                                              1 if x <= 1.39 else 0)"
   ]
  },
  {
   "cell_type": "markdown",
   "metadata": {},
   "source": [
    "### Bounce Rate Analysis"
   ]
  },
  {
   "cell_type": "code",
   "execution_count": 103,
   "metadata": {},
   "outputs": [
    {
     "data": {
      "text/plain": [
       "5509"
      ]
     },
     "execution_count": 103,
     "metadata": {},
     "output_type": "execute_result"
    }
   ],
   "source": [
    "len(train[train['GoogleAnalytics_BounceRate']==0.0])"
   ]
  },
  {
   "cell_type": "code",
   "execution_count": 104,
   "metadata": {},
   "outputs": [
    {
     "data": {
      "text/plain": [
       "0.0"
      ]
     },
     "execution_count": 104,
     "metadata": {},
     "output_type": "execute_result"
    }
   ],
   "source": [
    "min(train['GoogleAnalytics_ExitRate'])"
   ]
  },
  {
   "cell_type": "code",
   "execution_count": 105,
   "metadata": {},
   "outputs": [
    {
     "data": {
      "text/plain": [
       "0.022192666070411787"
      ]
     },
     "execution_count": 105,
     "metadata": {},
     "output_type": "execute_result"
    }
   ],
   "source": [
    "train['GoogleAnalytics_BounceRate'].mean()"
   ]
  },
  {
   "cell_type": "code",
   "execution_count": 106,
   "metadata": {},
   "outputs": [],
   "source": [
    "bin_labels = [1,2,3,4,5,6]\n",
    "train['BounceRateBins'] = pd.cut(train['GoogleAnalytics_BounceRate'], \n",
    "                                 [0,\n",
    "                                    0.0045,0.0085,0.015, 0.025, 0.065 ,\n",
    "                                    max(train['GoogleAnalytics_BounceRate'])],\n",
    "                                labels=bin_labels)\n",
    "train['BounceRateBins'] = train.BounceRateBins.fillna(1)"
   ]
  },
  {
   "cell_type": "code",
   "execution_count": 107,
   "metadata": {},
   "outputs": [
    {
     "data": {
      "text/html": [
       "<div>\n",
       "<style scoped>\n",
       "    .dataframe tbody tr th:only-of-type {\n",
       "        vertical-align: middle;\n",
       "    }\n",
       "\n",
       "    .dataframe tbody tr th {\n",
       "        vertical-align: top;\n",
       "    }\n",
       "\n",
       "    .dataframe thead th {\n",
       "        text-align: right;\n",
       "    }\n",
       "</style>\n",
       "<table border=\"1\" class=\"dataframe\">\n",
       "  <thead>\n",
       "    <tr style=\"text-align: right;\">\n",
       "      <th></th>\n",
       "      <th>Date</th>\n",
       "    </tr>\n",
       "    <tr>\n",
       "      <th>BounceRateBins</th>\n",
       "      <th></th>\n",
       "    </tr>\n",
       "  </thead>\n",
       "  <tbody>\n",
       "    <tr>\n",
       "      <th>1</th>\n",
       "      <td>6629</td>\n",
       "    </tr>\n",
       "    <tr>\n",
       "      <th>2</th>\n",
       "      <td>1121</td>\n",
       "    </tr>\n",
       "    <tr>\n",
       "      <th>3</th>\n",
       "      <td>1191</td>\n",
       "    </tr>\n",
       "    <tr>\n",
       "      <th>4</th>\n",
       "      <td>1080</td>\n",
       "    </tr>\n",
       "    <tr>\n",
       "      <th>5</th>\n",
       "      <td>1094</td>\n",
       "    </tr>\n",
       "    <tr>\n",
       "      <th>6</th>\n",
       "      <td>1184</td>\n",
       "    </tr>\n",
       "  </tbody>\n",
       "</table>\n",
       "</div>"
      ],
      "text/plain": [
       "                Date\n",
       "BounceRateBins      \n",
       "1               6629\n",
       "2               1121\n",
       "3               1191\n",
       "4               1080\n",
       "5               1094\n",
       "6               1184"
      ]
     },
     "execution_count": 107,
     "metadata": {},
     "output_type": "execute_result"
    }
   ],
   "source": [
    "train.groupby(['BounceRateBins']).count()[['Date']]"
   ]
  },
  {
   "cell_type": "code",
   "execution_count": 108,
   "metadata": {},
   "outputs": [
    {
     "data": {
      "text/html": [
       "<div>\n",
       "<style scoped>\n",
       "    .dataframe tbody tr th:only-of-type {\n",
       "        vertical-align: middle;\n",
       "    }\n",
       "\n",
       "    .dataframe tbody tr th {\n",
       "        vertical-align: top;\n",
       "    }\n",
       "\n",
       "    .dataframe thead th {\n",
       "        text-align: right;\n",
       "    }\n",
       "</style>\n",
       "<table border=\"1\" class=\"dataframe\">\n",
       "  <thead>\n",
       "    <tr style=\"text-align: right;\">\n",
       "      <th></th>\n",
       "      <th>Date</th>\n",
       "    </tr>\n",
       "    <tr>\n",
       "      <th>BounceRateBins</th>\n",
       "      <th></th>\n",
       "    </tr>\n",
       "  </thead>\n",
       "  <tbody>\n",
       "    <tr>\n",
       "      <th>1</th>\n",
       "      <td>1080</td>\n",
       "    </tr>\n",
       "    <tr>\n",
       "      <th>2</th>\n",
       "      <td>181</td>\n",
       "    </tr>\n",
       "    <tr>\n",
       "      <th>3</th>\n",
       "      <td>147</td>\n",
       "    </tr>\n",
       "    <tr>\n",
       "      <th>4</th>\n",
       "      <td>93</td>\n",
       "    </tr>\n",
       "    <tr>\n",
       "      <th>5</th>\n",
       "      <td>43</td>\n",
       "    </tr>\n",
       "    <tr>\n",
       "      <th>6</th>\n",
       "      <td>8</td>\n",
       "    </tr>\n",
       "  </tbody>\n",
       "</table>\n",
       "</div>"
      ],
      "text/plain": [
       "                Date\n",
       "BounceRateBins      \n",
       "1               1080\n",
       "2                181\n",
       "3                147\n",
       "4                 93\n",
       "5                 43\n",
       "6                  8"
      ]
     },
     "execution_count": 108,
     "metadata": {},
     "output_type": "execute_result"
    }
   ],
   "source": [
    "#train['BounceRateBins']\n",
    "train[train['Buy']==1].groupby(['BounceRateBins']).count()[['Date']]"
   ]
  },
  {
   "cell_type": "code",
   "execution_count": 109,
   "metadata": {},
   "outputs": [],
   "source": [
    "train['BounceRateBins_scaled'] = min_max_scaler.fit_transform(train[['BounceRateBins']])"
   ]
  },
  {
   "cell_type": "markdown",
   "metadata": {},
   "source": [
    "<b>Analysis:</b> Lower the bounce rate higher the probability of buy"
   ]
  },
  {
   "cell_type": "markdown",
   "metadata": {},
   "source": [
    "### Exit Rate Analysis"
   ]
  },
  {
   "cell_type": "code",
   "execution_count": 110,
   "metadata": {},
   "outputs": [
    {
     "data": {
      "text/plain": [
       "0.04306614358890946"
      ]
     },
     "execution_count": 110,
     "metadata": {},
     "output_type": "execute_result"
    }
   ],
   "source": [
    "train['GoogleAnalytics_ExitRate'].mean()"
   ]
  },
  {
   "cell_type": "code",
   "execution_count": 111,
   "metadata": {},
   "outputs": [],
   "source": [
    "bin_labels = [1,2,3,4,5]\n",
    "train['ExitRateBins'] = pd.cut(train['GoogleAnalytics_ExitRate'], \n",
    "                                 [ 0.0,\n",
    "                                    0.0085, 0.016, 0.025, 0.041,\n",
    "                                    max(train['GoogleAnalytics_ExitRate'])],\n",
    "                              labels=bin_labels)\n",
    "train['ExitRateBins']  = train.ExitRateBins.fillna(1)"
   ]
  },
  {
   "cell_type": "code",
   "execution_count": 112,
   "metadata": {},
   "outputs": [
    {
     "data": {
      "text/html": [
       "<div>\n",
       "<style scoped>\n",
       "    .dataframe tbody tr th:only-of-type {\n",
       "        vertical-align: middle;\n",
       "    }\n",
       "\n",
       "    .dataframe tbody tr th {\n",
       "        vertical-align: top;\n",
       "    }\n",
       "\n",
       "    .dataframe thead th {\n",
       "        text-align: right;\n",
       "    }\n",
       "</style>\n",
       "<table border=\"1\" class=\"dataframe\">\n",
       "  <thead>\n",
       "    <tr style=\"text-align: right;\">\n",
       "      <th></th>\n",
       "      <th>Date</th>\n",
       "    </tr>\n",
       "    <tr>\n",
       "      <th>ExitRateBins</th>\n",
       "      <th></th>\n",
       "    </tr>\n",
       "  </thead>\n",
       "  <tbody>\n",
       "    <tr>\n",
       "      <th>1</th>\n",
       "      <td>1490</td>\n",
       "    </tr>\n",
       "    <tr>\n",
       "      <th>2</th>\n",
       "      <td>2172</td>\n",
       "    </tr>\n",
       "    <tr>\n",
       "      <th>3</th>\n",
       "      <td>2477</td>\n",
       "    </tr>\n",
       "    <tr>\n",
       "      <th>4</th>\n",
       "      <td>2450</td>\n",
       "    </tr>\n",
       "    <tr>\n",
       "      <th>5</th>\n",
       "      <td>3710</td>\n",
       "    </tr>\n",
       "  </tbody>\n",
       "</table>\n",
       "</div>"
      ],
      "text/plain": [
       "              Date\n",
       "ExitRateBins      \n",
       "1             1490\n",
       "2             2172\n",
       "3             2477\n",
       "4             2450\n",
       "5             3710"
      ]
     },
     "execution_count": 112,
     "metadata": {},
     "output_type": "execute_result"
    }
   ],
   "source": [
    "train.groupby(['ExitRateBins']).count()[['Date']]"
   ]
  },
  {
   "cell_type": "code",
   "execution_count": 113,
   "metadata": {},
   "outputs": [
    {
     "data": {
      "text/html": [
       "<div>\n",
       "<style scoped>\n",
       "    .dataframe tbody tr th:only-of-type {\n",
       "        vertical-align: middle;\n",
       "    }\n",
       "\n",
       "    .dataframe tbody tr th {\n",
       "        vertical-align: top;\n",
       "    }\n",
       "\n",
       "    .dataframe thead th {\n",
       "        text-align: right;\n",
       "    }\n",
       "</style>\n",
       "<table border=\"1\" class=\"dataframe\">\n",
       "  <thead>\n",
       "    <tr style=\"text-align: right;\">\n",
       "      <th></th>\n",
       "      <th>Date</th>\n",
       "    </tr>\n",
       "    <tr>\n",
       "      <th>ExitRateBins</th>\n",
       "      <th></th>\n",
       "    </tr>\n",
       "  </thead>\n",
       "  <tbody>\n",
       "    <tr>\n",
       "      <th>1</th>\n",
       "      <td>349</td>\n",
       "    </tr>\n",
       "    <tr>\n",
       "      <th>2</th>\n",
       "      <td>434</td>\n",
       "    </tr>\n",
       "    <tr>\n",
       "      <th>3</th>\n",
       "      <td>389</td>\n",
       "    </tr>\n",
       "    <tr>\n",
       "      <th>4</th>\n",
       "      <td>276</td>\n",
       "    </tr>\n",
       "    <tr>\n",
       "      <th>5</th>\n",
       "      <td>104</td>\n",
       "    </tr>\n",
       "  </tbody>\n",
       "</table>\n",
       "</div>"
      ],
      "text/plain": [
       "              Date\n",
       "ExitRateBins      \n",
       "1              349\n",
       "2              434\n",
       "3              389\n",
       "4              276\n",
       "5              104"
      ]
     },
     "execution_count": 113,
     "metadata": {},
     "output_type": "execute_result"
    }
   ],
   "source": [
    "#train['ExitRateBins']\n",
    "\n",
    "train[train['Buy']==1].groupby(['ExitRateBins']).count()[['Date']]"
   ]
  },
  {
   "cell_type": "code",
   "execution_count": 114,
   "metadata": {},
   "outputs": [],
   "source": [
    "train['ExitRateBins_scaled'] = min_max_scaler.fit_transform(train[['ExitRateBins']])"
   ]
  },
  {
   "cell_type": "code",
   "execution_count": 115,
   "metadata": {},
   "outputs": [],
   "source": [
    "train['GoogleAnalytics_ExitRate_BelowAVG'] = train.GoogleAnalytics_ExitRate.apply(lambda x: \n",
    "                                                                              1 if x <= 0.043 else 0)"
   ]
  },
  {
   "cell_type": "markdown",
   "metadata": {},
   "source": [
    "<b>Analysis:</b> Lower the exit rate higher the probability of buy"
   ]
  },
  {
   "cell_type": "markdown",
   "metadata": {},
   "source": [
    "# OS"
   ]
  },
  {
   "cell_type": "code",
   "execution_count": 116,
   "metadata": {},
   "outputs": [
    {
     "data": {
      "text/plain": [
       "array(['MacOSX', 'Windows', 'Android', 'Ubuntu', 'iOS', 'Other', 'Fedora',\n",
       "       'Chrome OS'], dtype=object)"
      ]
     },
     "execution_count": 116,
     "metadata": {},
     "output_type": "execute_result"
    }
   ],
   "source": [
    "train['OS'].unique()"
   ]
  },
  {
   "cell_type": "code",
   "execution_count": 117,
   "metadata": {},
   "outputs": [
    {
     "data": {
      "text/plain": [
       "Windows      6585\n",
       "Android      2581\n",
       "MacOSX       2548\n",
       "iOS           475\n",
       "Ubuntu         79\n",
       "Chrome OS      19\n",
       "Other           7\n",
       "Fedora          5\n",
       "Name: OS, dtype: int64"
      ]
     },
     "execution_count": 117,
     "metadata": {},
     "output_type": "execute_result"
    }
   ],
   "source": [
    "train['OS'].value_counts()"
   ]
  },
  {
   "cell_type": "code",
   "execution_count": 118,
   "metadata": {},
   "outputs": [
    {
     "data": {
      "text/html": [
       "<div>\n",
       "<style scoped>\n",
       "    .dataframe tbody tr th:only-of-type {\n",
       "        vertical-align: middle;\n",
       "    }\n",
       "\n",
       "    .dataframe tbody tr th {\n",
       "        vertical-align: top;\n",
       "    }\n",
       "\n",
       "    .dataframe thead tr th {\n",
       "        text-align: left;\n",
       "    }\n",
       "</style>\n",
       "<table border=\"1\" class=\"dataframe\">\n",
       "  <thead>\n",
       "    <tr>\n",
       "      <th></th>\n",
       "      <th>OS</th>\n",
       "      <th colspan=\"2\" halign=\"left\">Buy</th>\n",
       "    </tr>\n",
       "    <tr>\n",
       "      <th></th>\n",
       "      <th></th>\n",
       "      <th>sum</th>\n",
       "      <th>count</th>\n",
       "    </tr>\n",
       "  </thead>\n",
       "  <tbody>\n",
       "    <tr>\n",
       "      <th>0</th>\n",
       "      <td>Android</td>\n",
       "      <td>320.0</td>\n",
       "      <td>2104</td>\n",
       "    </tr>\n",
       "    <tr>\n",
       "      <th>1</th>\n",
       "      <td>Chrome OS</td>\n",
       "      <td>1.0</td>\n",
       "      <td>15</td>\n",
       "    </tr>\n",
       "    <tr>\n",
       "      <th>2</th>\n",
       "      <td>Fedora</td>\n",
       "      <td>0.0</td>\n",
       "      <td>3</td>\n",
       "    </tr>\n",
       "    <tr>\n",
       "      <th>3</th>\n",
       "      <td>MacOSX</td>\n",
       "      <td>221.0</td>\n",
       "      <td>2065</td>\n",
       "    </tr>\n",
       "    <tr>\n",
       "      <th>4</th>\n",
       "      <td>Other</td>\n",
       "      <td>1.0</td>\n",
       "      <td>5</td>\n",
       "    </tr>\n",
       "    <tr>\n",
       "      <th>5</th>\n",
       "      <td>Ubuntu</td>\n",
       "      <td>15.0</td>\n",
       "      <td>68</td>\n",
       "    </tr>\n",
       "    <tr>\n",
       "      <th>6</th>\n",
       "      <td>Windows</td>\n",
       "      <td>933.0</td>\n",
       "      <td>5361</td>\n",
       "    </tr>\n",
       "    <tr>\n",
       "      <th>7</th>\n",
       "      <td>iOS</td>\n",
       "      <td>61.0</td>\n",
       "      <td>378</td>\n",
       "    </tr>\n",
       "  </tbody>\n",
       "</table>\n",
       "</div>"
      ],
      "text/plain": [
       "          OS    Buy      \n",
       "                sum count\n",
       "0    Android  320.0  2104\n",
       "1  Chrome OS    1.0    15\n",
       "2     Fedora    0.0     3\n",
       "3     MacOSX  221.0  2065\n",
       "4      Other    1.0     5\n",
       "5     Ubuntu   15.0    68\n",
       "6    Windows  933.0  5361\n",
       "7        iOS   61.0   378"
      ]
     },
     "execution_count": 118,
     "metadata": {},
     "output_type": "execute_result"
    }
   ],
   "source": [
    "train.groupby('OS').agg({'Buy': ['sum','count']}).reset_index()"
   ]
  },
  {
   "cell_type": "code",
   "execution_count": 119,
   "metadata": {},
   "outputs": [],
   "source": [
    "# One Hot Encoding for Windows, Android, MacOSX, iOS"
   ]
  },
  {
   "cell_type": "code",
   "execution_count": 120,
   "metadata": {},
   "outputs": [],
   "source": [
    "train['OS_Windows'] = train['OS']\n",
    "train['OS_Windows'][train['OS_Windows'] == 'Windows'] = 1\n",
    "train['OS_Windows'][train['OS_Windows'] != 1] = 0"
   ]
  },
  {
   "cell_type": "code",
   "execution_count": 121,
   "metadata": {},
   "outputs": [],
   "source": [
    "train['OS_Android'] = train['OS']\n",
    "train['OS_Android'][train['OS_Android'] == 'Android'] = 1\n",
    "train['OS_Android'][train['OS_Android'] != 1] = 0"
   ]
  },
  {
   "cell_type": "code",
   "execution_count": 122,
   "metadata": {},
   "outputs": [],
   "source": [
    "train['OS_MacOSX'] = train['OS']\n",
    "train['OS_MacOSX'][train['OS_MacOSX'] == 'MacOSX'] = 1\n",
    "train['OS_MacOSX'][train['OS_MacOSX'] != 1] = 0"
   ]
  },
  {
   "cell_type": "code",
   "execution_count": 123,
   "metadata": {},
   "outputs": [],
   "source": [
    "train['OS_iOS'] = train['OS']\n",
    "train['OS_iOS'][train['OS_iOS'] == 'iOS'] = 1\n",
    "train['OS_iOS'][train['OS_iOS'] != 1] = 0"
   ]
  },
  {
   "cell_type": "markdown",
   "metadata": {},
   "source": [
    "# Type_of_Visitor"
   ]
  },
  {
   "cell_type": "code",
   "execution_count": 124,
   "metadata": {},
   "outputs": [],
   "source": [
    "df_Type_of_Visitor = pd.get_dummies(train['Type_of_Visitor'], prefix='Type_of_Visitor')"
   ]
  },
  {
   "cell_type": "code",
   "execution_count": 125,
   "metadata": {},
   "outputs": [],
   "source": [
    "train = train.merge(df_Type_of_Visitor, left_index=True, right_index=True)"
   ]
  },
  {
   "cell_type": "code",
   "execution_count": 126,
   "metadata": {},
   "outputs": [
    {
     "data": {
      "text/plain": [
       "Access_ID\n",
       "102863333    1\n",
       "103117814    1\n",
       "103201891    1\n",
       "103226087    1\n",
       "103234445    1\n",
       "            ..\n",
       "962042726    1\n",
       "962063064    1\n",
       "962147749    1\n",
       "962182167    1\n",
       "962218682    1\n",
       "Name: Type_of_Visitor_Returner, Length: 12299, dtype: uint8"
      ]
     },
     "execution_count": 126,
     "metadata": {},
     "output_type": "execute_result"
    }
   ],
   "source": [
    "train.Type_of_Visitor_Returner"
   ]
  },
  {
   "cell_type": "code",
   "execution_count": 127,
   "metadata": {},
   "outputs": [],
   "source": [
    "train['NewTimePV95'] = train.apply(lambda x: 1 if ( (x['APTimeP']<=95) & \n",
    "                                               (x['GoogleAnalytics_PageValue'] <22) &\n",
    "                                               (x['Type_of_Visitor']=='New_Access')\n",
    "                                              ) else 0, axis=1)\n",
    "train['RetTimePV90'] = train.apply(lambda x: 1 if ( (x['APTimeP']<=90) & \n",
    "                                               (x['GoogleAnalytics_PageValue'] <22) &\n",
    "                                               (x['Type_of_Visitor']=='Returner')\n",
    "                                              ) else 0, axis=1)\n",
    "\n",
    "train['NewTimePV90'] = train.apply(lambda x: 1 if ( (x['APTimeP']<=90) & \n",
    "                                               (x['GoogleAnalytics_PageValue'] <22) &\n",
    "                                               (x['Type_of_Visitor']=='New_Access')\n",
    "                                              ) else 0, axis=1)\n",
    "train['RetTimePV85'] = train.apply(lambda x: 1 if ( (x['APTimeP']<=85) & \n",
    "                                               (x['GoogleAnalytics_PageValue'] <22) &\n",
    "                                               (x['Type_of_Visitor']=='Returner')\n",
    "                                              ) else 0, axis=1)"
   ]
  },
  {
   "cell_type": "code",
   "execution_count": 128,
   "metadata": {},
   "outputs": [],
   "source": [
    "train['NewTime95'] = train.apply(lambda x: 1 if ( (x['APTimeP']<=95) & \n",
    "                                               (x['Type_of_Visitor']=='New_Access')\n",
    "                                              ) else 0, axis=1)\n",
    "train['RetTime90'] = train.apply(lambda x: 1 if ( (x['APTimeP']<=90) & \n",
    "                                               (x['Type_of_Visitor']=='Returner')\n",
    "                                              ) else 0, axis=1)\n",
    "\n",
    "train['NewTime90'] = train.apply(lambda x: 1 if ( (x['APTimeP']<=90) & \n",
    "                                               (x['Type_of_Visitor']=='New_Access')\n",
    "                                              ) else 0, axis=1)\n",
    "train['RetTime85'] = train.apply(lambda x: 1 if ( (x['APTimeP']<=85) & \n",
    "                                               (x['Type_of_Visitor']=='Returner')\n",
    "                                              ) else 0, axis=1)"
   ]
  },
  {
   "cell_type": "markdown",
   "metadata": {},
   "source": [
    "# Type_of_Traffic"
   ]
  },
  {
   "cell_type": "markdown",
   "metadata": {},
   "source": [
    "### distrubute into buckets by percentage:\n",
    "- Idea:\n",
    "   - 0-10%\n",
    "   - 10-20%\n",
    "   - 20-30%\n",
    "\n",
    "- percentage of Buy== 1 per value\n",
    "- 1: 10.8%\n",
    "- 2: 21.75%\n",
    "- 3: 8.9%\n",
    "- 4: 14.9%\n",
    "- 5: 20.5%\n",
    "- 6: 12.1%\n",
    "- 7: 32.3%\n",
    "- 8: 29.6%\n",
    "- 9: 8.4%\n",
    "- 10: 20.3%\n",
    "- 11: 20.5%\n",
    "- 12: 0\n",
    "- 13: 5%\n",
    "- 14: 7.4%\n",
    "- 15: 24.4%\n",
    "\n",
    "- there seems to be a strong difference between the values, probably valuable variable"
   ]
  },
  {
   "cell_type": "code",
   "execution_count": 129,
   "metadata": {},
   "outputs": [],
   "source": [
    "# bucket 1: 3,9,12,5,14\n",
    "# bucket 2: 1,4,6\n",
    "# bucket 3: 2,5,7,8,10,11,15"
   ]
  },
  {
   "cell_type": "code",
   "execution_count": 130,
   "metadata": {
    "scrolled": true
   },
   "outputs": [
    {
     "data": {
      "text/plain": [
       "Access_ID\n",
       "102863333     1\n",
       "103117814     6\n",
       "103201891     1\n",
       "103226087     2\n",
       "103234445     3\n",
       "             ..\n",
       "962042726     1\n",
       "962063064     3\n",
       "962147749    11\n",
       "962182167     3\n",
       "962218682    13\n",
       "Name: Type_of_Traffic, Length: 12299, dtype: int64"
      ]
     },
     "execution_count": 130,
     "metadata": {},
     "output_type": "execute_result"
    }
   ],
   "source": [
    "train['Type_of_Traffic']"
   ]
  },
  {
   "cell_type": "markdown",
   "metadata": {},
   "source": [
    "### one hot encoding of Type_of_Traffic"
   ]
  },
  {
   "cell_type": "code",
   "execution_count": 131,
   "metadata": {},
   "outputs": [],
   "source": [
    "df_Type_of_Traffic = pd.get_dummies(train['Type_of_Traffic'], prefix='Type_of_Traffic')"
   ]
  },
  {
   "cell_type": "code",
   "execution_count": 132,
   "metadata": {},
   "outputs": [],
   "source": [
    "train = train.merge(df_Type_of_Traffic, left_index=True, right_index=True)"
   ]
  },
  {
   "cell_type": "code",
   "execution_count": 133,
   "metadata": {},
   "outputs": [
    {
     "data": {
      "text/plain": [
       "Index(['Date', 'AccountMng_Pages', 'AccountMng_Duration', 'FAQ_Pages',\n",
       "       'FAQ_Duration', 'Product_Pages', 'Product_Duration',\n",
       "       'GoogleAnalytics_BounceRate', 'GoogleAnalytics_ExitRate',\n",
       "       'GoogleAnalytics_PageValue',\n",
       "       ...\n",
       "       'Type_of_Traffic_6', 'Type_of_Traffic_7', 'Type_of_Traffic_8',\n",
       "       'Type_of_Traffic_9', 'Type_of_Traffic_10', 'Type_of_Traffic_11',\n",
       "       'Type_of_Traffic_12', 'Type_of_Traffic_13', 'Type_of_Traffic_14',\n",
       "       'Type_of_Traffic_15'],\n",
       "      dtype='object', length=147)"
      ]
     },
     "execution_count": 133,
     "metadata": {},
     "output_type": "execute_result"
    }
   ],
   "source": [
    "train.columns"
   ]
  },
  {
   "cell_type": "markdown",
   "metadata": {},
   "source": [
    "# Jessica's Features"
   ]
  },
  {
   "cell_type": "code",
   "execution_count": 134,
   "metadata": {},
   "outputs": [],
   "source": [
    "# Weekend feature\n",
    "train['Weekend'] = 0     \n",
    "train.loc[train['Date_dayofweek'].isin([6, 7]), 'Weekend'] = 1 "
   ]
  },
  {
   "cell_type": "code",
   "execution_count": 135,
   "metadata": {},
   "outputs": [],
   "source": [
    "train['Quarter'] = train['Date'].dt.quarter"
   ]
  },
  {
   "cell_type": "code",
   "execution_count": 136,
   "metadata": {},
   "outputs": [],
   "source": [
    "df_quarter = pd.get_dummies(train['Quarter'], prefix='Quarter')\n",
    "train = train.merge(df_quarter, left_index=True, right_index=True)"
   ]
  },
  {
   "cell_type": "markdown",
   "metadata": {},
   "source": [
    "# Marco's Features"
   ]
  },
  {
   "cell_type": "code",
   "execution_count": 137,
   "metadata": {},
   "outputs": [],
   "source": [
    "def page_combo(acct, faq, prod):\n",
    "    \n",
    "    if (acct == 0) & (faq == 0) & (prod == 0):\n",
    "        page_visits = 0\n",
    "    elif (acct > 0) & (faq == 0) &(prod == 0):\n",
    "        page_visits = 1\n",
    "    elif (acct == 0) & (faq > 0) & (prod == 0):\n",
    "        page_visits = 2\n",
    "    elif (acct == 0) & (faq == 0) & (prod > 0):\n",
    "        page_visits = 3\n",
    "    elif (acct > 0) & (faq > 0) & (prod == 0):\n",
    "        page_visits = 4\n",
    "    elif (acct > 0) & (faq == 0) & (prod > 0):\n",
    "        page_visits = 5\n",
    "    elif (acct == 0) & (faq > 0) & (prod > 0):\n",
    "        page_visits = 6\n",
    "    elif (acct > 0) & (faq > 0) & (prod > 0):\n",
    "        page_visits = 7\n",
    "        \n",
    "    return page_visits"
   ]
  },
  {
   "cell_type": "code",
   "execution_count": 138,
   "metadata": {},
   "outputs": [],
   "source": [
    "def above_mean(df, column_name):\n",
    "    #Calculating the average of column_name in dataframe\n",
    "    column_average = df[column_name].mean()\n",
    "    \n",
    "    #Initialising avariable is_above_average\n",
    "    is_above_average = []\n",
    "    #Looping through each value in column_name\n",
    "    for i in df[column_name]:\n",
    "        #Check if column_value is above average then indicate 1 as true\n",
    "        if i > column_average:\n",
    "            is_above_average.append(1)\n",
    "        #Check if column_value is above average then indicate 0 as false\n",
    "        elif i <= column_average:\n",
    "            is_above_average.append(0)\n",
    "         #Check if column_value is above average then indicate nan as value is nan\n",
    "        elif pd.isnull(i):\n",
    "            is_above_average.append(np.nan)\n",
    "            \n",
    "    return is_above_average"
   ]
  },
  {
   "cell_type": "code",
   "execution_count": 139,
   "metadata": {},
   "outputs": [],
   "source": [
    "def is_percentile(df):\n",
    "    #Calculating the average of column_name in dataframe\n",
    "    minq = min(df)\n",
    "    q25 = np.percentile(df, 25)\n",
    "    q50 = np.percentile(df, 50)\n",
    "    q75 = np.percentile(df, 75)\n",
    "    maxq = max(df)\n",
    "    \n",
    "    #Initialising avariable is_above_average\n",
    "    is_in_q = []\n",
    "    #Looping through each value in column_name\n",
    "    for i in df:\n",
    "        #Check if column_value is above average then indicate 1 as true\n",
    "        if (i > minq) & (i <= q25):\n",
    "            is_in_q.append(0.25)\n",
    "        #Check if column_value is above average then indicate 0 as false\n",
    "        elif (i > q25) & (i <= q50):\n",
    "            is_in_q.append(0.50)\n",
    "         #Check if column_value is above average then indicate nan as value is nan\n",
    "        elif (i > q50) & (i <= q75):\n",
    "            is_in_q.append(0.75)\n",
    "        elif (i > q75) & (i <= maxq):\n",
    "            is_in_q.append(1)\n",
    "        elif pd.isnull(i):\n",
    "            is_in_q.append(np.nan)\n",
    "        else:\n",
    "            is_in_q.append(0)\n",
    "            \n",
    "    return is_in_q"
   ]
  },
  {
   "cell_type": "code",
   "execution_count": 140,
   "metadata": {},
   "outputs": [],
   "source": [
    "def time_o_pv(v, t):\n",
    "    value = 0\n",
    "    # If value is greater or equal than two\n",
    "    if v >= 4:\n",
    "        if t <= 5.05:\n",
    "            value = 6\n",
    "        elif (t > 5.05) & (t <= 6.152):\n",
    "            value = 7\n",
    "        elif (t > 6.152) & (t <= 6.871):\n",
    "            value = 8\n",
    "        elif (t > 6.871) & (t <= 7.598):\n",
    "            value = 9\n",
    "        elif (t > 7.598) & (t <= 11.155):\n",
    "            value = 10\n",
    "    else: # If value is less than two\n",
    "        if t <= 5.05:\n",
    "            value = 1\n",
    "        elif (t > 5.05) & (t <= 6.152):\n",
    "            value = 2\n",
    "        elif (t > 6.152) & (t <= 6.871):\n",
    "            value = 3\n",
    "        elif (t > 6.871) & (t <= 7.598):\n",
    "            value = 4\n",
    "        elif (t > 7.598) & (t <= 11.155):\n",
    "            value = 5\n",
    "    \n",
    "    return value"
   ]
  },
  {
   "cell_type": "code",
   "execution_count": 141,
   "metadata": {},
   "outputs": [],
   "source": [
    "#Public Holidays\n",
    "\n",
    "def is_holiday(date):\n",
    "    \n",
    "    is_holiday = 0\n",
    "    #Christmas\n",
    "    is_holiday = is_holiday + 1 if pd.to_datetime('2020-12-18') <= date <= pd.to_datetime('2020-12-25') else is_holiday\n",
    "    #Christmas\n",
    "    is_holiday = is_holiday + 1 if pd.to_datetime('2020-12-01') <= date <= pd.to_datetime('2020-12-01') else is_holiday\n",
    "    #Christmas\n",
    "    is_holiday = is_holiday + 1 if pd.to_datetime('2020-12-08') <= date <= pd.to_datetime('2020-12-08') else is_holiday\n",
    "    #Thanks Giving\n",
    "    is_holiday = is_holiday + 1 if pd.to_datetime('2020-11-22') <= date <= pd.to_datetime('2020-11-28') else is_holiday\n",
    "    #Halloween\n",
    "    is_holiday = is_holiday + 1 if pd.to_datetime('2020-10-31') <= date <= pd.to_datetime('2020-11-02') else is_holiday\n",
    "    #Christmas\n",
    "    is_holiday = is_holiday + 1 if pd.to_datetime('2020-08-14') <= date <= pd.to_datetime('2020-08-15') else is_holiday\n",
    "    #Independence\n",
    "    is_holiday = is_holiday + 1 if pd.to_datetime('2020-07-01') <= date <= pd.to_datetime('2020-01-04') else is_holiday\n",
    "    #FathersDay\n",
    "    is_holiday = is_holiday + 1 if pd.to_datetime('2020-06-15') <= date <= pd.to_datetime('2020-06-21') else is_holiday\n",
    "    #MothersDay\n",
    "    is_holiday = is_holiday + 1 if pd.to_datetime('2020-05-01') <= date <= pd.to_datetime('2020-05-03') else is_holiday\n",
    "    #Easter\n",
    "    is_holiday = is_holiday + 1 if pd.to_datetime('2020-04-06') <= date <= pd.to_datetime('2020-04-12') else is_holiday\n",
    "        #StPatricks\n",
    "    is_holiday = is_holiday + 1 if pd.to_datetime('2020-03-15') <= date <= pd.to_datetime('2020-03-17') else is_holiday\n",
    "    #ValentinesDay\n",
    "    is_holiday = is_holiday + 1 if pd.to_datetime('2020-02-10') <= date <= pd.to_datetime('2020-02-14') else is_holiday\n",
    "    #NewYear\n",
    "    is_holiday = is_holiday + 1 if pd.to_datetime('2019-12-31') <= date <= pd.to_datetime('2020-01-02') else is_holiday\n",
    "    \n",
    "    return is_holiday\n"
   ]
  },
  {
   "cell_type": "code",
   "execution_count": 142,
   "metadata": {},
   "outputs": [],
   "source": [
    "train['holidays'] = train['Date'].map(lambda x: is_holiday(x))"
   ]
  },
  {
   "cell_type": "code",
   "execution_count": 143,
   "metadata": {},
   "outputs": [],
   "source": [
    "#list_sample = []\n",
    "train['page_visits'] = train.apply(lambda x: page_combo(x.AccountMng_Pages, x.FAQ_Pages, x.Product_Pages), axis=1)"
   ]
  },
  {
   "cell_type": "code",
   "execution_count": 144,
   "metadata": {},
   "outputs": [],
   "source": [
    "df_page_visits = pd.get_dummies(train['page_visits'], prefix='page_visits')\n",
    "train = train.merge(df_page_visits, left_index=True, right_index=True)"
   ]
  },
  {
   "cell_type": "code",
   "execution_count": 145,
   "metadata": {},
   "outputs": [],
   "source": [
    "#Checking if average time matters in buying\n",
    "train['above_avg_AT'] = above_mean(train,'AccountMng_Duration')\n",
    "train['above_avg_FT'] = above_mean(train,'FAQ_Duration')\n",
    "train['above_avg_PT'] = above_mean(train,'Product_Duration')\n",
    "\n",
    "#Checking if average Pages in buying\n",
    "train['above_avg_AP'] = above_mean(train,'AccountMng_Pages')\n",
    "train['above_avg_FP'] = above_mean(train,'FAQ_Pages')\n",
    "train['above_avg_PP'] = above_mean(train,'Product_Pages')\n",
    "\n",
    "#Checking if GoogleAnalytics_BounceRate is above avg\n",
    "train['above_avg_BounceRate'] = above_mean(train,'GoogleAnalytics_BounceRate')\n",
    "\n",
    "#Checking if GoogleAnalytics_ExitRate is above avg\n",
    "train['above_avg_ExitRate'] = above_mean(train,'GoogleAnalytics_ExitRate')\n",
    "\n",
    "#Checking if GoogleAnalytics_PageValue is above avg\n",
    "train['above_avg_PageValue'] = above_mean(train,'GoogleAnalytics_PageValue')\n"
   ]
  },
  {
   "cell_type": "code",
   "execution_count": 146,
   "metadata": {},
   "outputs": [],
   "source": [
    "train['BounceRate_Q'] = is_percentile(train.GoogleAnalytics_BounceRate)\n",
    "train['ExitRate_Q'] = is_percentile(train.GoogleAnalytics_ExitRate)"
   ]
  },
  {
   "cell_type": "code",
   "execution_count": 147,
   "metadata": {},
   "outputs": [],
   "source": [
    "# Sum all the total time spent\n",
    "#train['TotalTime'] = train[['AccountMng_Duration','FAQ_Duration','Product_Duration']].sum(axis=1)\n",
    "\n",
    "# Log the total time spent\n",
    "#train['TotalTime_log_scaled'] = np.where(train['TotalTime']>0 , \n",
    "#                                         np.log(train['TotalTime']), 0)"
   ]
  },
  {
   "cell_type": "code",
   "execution_count": 148,
   "metadata": {},
   "outputs": [],
   "source": [
    "# Log the page value\n",
    "#train['PageValue_log_scaled'] = np.where(train['GoogleAnalytics_PageValue'] > 0 , \n",
    "#                                         np.log(train['GoogleAnalytics_PageValue']), 0)"
   ]
  },
  {
   "cell_type": "code",
   "execution_count": 149,
   "metadata": {},
   "outputs": [
    {
     "data": {
      "text/plain": [
       "\"bins = [ min(train.TotalTime_log_scaled),5.05, 6.152, 6.871, 7.598, max(train.TotalTime_log_scaled)]\\n\\n# Create bins of Total Time log\\ntrain['timeBins'] = pd.cut(train['TotalTime_log_scaled'], \\n                             bins, labels = [5.05, 6.152, 6.871, 7.598, 11.155])\""
      ]
     },
     "execution_count": 149,
     "metadata": {},
     "output_type": "execute_result"
    }
   ],
   "source": [
    "# Bins of TotalTime_log_scaled\n",
    "'''bins = [ min(train.TotalTime_log_scaled),5.05, 6.152, 6.871, 7.598, max(train.TotalTime_log_scaled)]\n",
    "\n",
    "# Create bins of Total Time log\n",
    "train['timeBins'] = pd.cut(train['TotalTime_log_scaled'], \n",
    "                             bins, labels = [5.05, 6.152, 6.871, 7.598, 11.155])'''"
   ]
  },
  {
   "cell_type": "code",
   "execution_count": 150,
   "metadata": {},
   "outputs": [],
   "source": [
    "# Calculate the time and page_value transformation\n",
    "#train['time_o_pv'] = train.apply(lambda x: time_o_pv(x.GoogleAnalytics_PageValue_log_scaled, x.timeBins), axis=1)"
   ]
  },
  {
   "cell_type": "code",
   "execution_count": 151,
   "metadata": {},
   "outputs": [],
   "source": [
    "eu = ['France', 'Germany', 'Italy', 'Portugal', 'Spain', 'Switzerland', 'United Kingdom']\n",
    "train['IsEU'] = train.Country.apply(lambda x: 1 if x in eu else 0)"
   ]
  },
  {
   "cell_type": "code",
   "execution_count": 152,
   "metadata": {},
   "outputs": [],
   "source": [
    "# Grouping sources\n",
    "source = train.groupby('Type_of_Traffic').count()[['Browser']].reset_index().rename({'Browser':'Count'})\n",
    "# Checking sources that are above the mean number\n",
    "above_mean = source[source['Browser']>source.Browser.mean()]['Type_of_Traffic']\n",
    "# Encoding if source traffic belongs to the group where above the mean\n",
    "train['source_Above_Mean'] = train.Type_of_Traffic.apply(lambda x: 1 if x in above_mean else 0)"
   ]
  },
  {
   "cell_type": "code",
   "execution_count": 153,
   "metadata": {},
   "outputs": [],
   "source": [
    "#Most traffic in the site are comming from the two browsers [1 and 2] 84%\n",
    "# 2 has 65% total and buy is 10% in when using browsers 2\n",
    "train['Browser_1'] = train.Browser.apply(lambda x: 1 if x == 1 else 0)\n",
    "train['Browser_2'] = train.Browser.apply(lambda x: 1 if x == 2 else 0)\n",
    "train['Browser_all'] = train.Browser.apply(lambda x: 1 if x not in [1,2] else 0)"
   ]
  },
  {
   "cell_type": "markdown",
   "metadata": {},
   "source": [
    "# Correlation"
   ]
  },
  {
   "cell_type": "code",
   "execution_count": 154,
   "metadata": {},
   "outputs": [],
   "source": [
    "# Average time proportion in total duration\n",
    "train['AvgFAQTimePct'] = train.apply(lambda x: 0 if (x[['AvgTimeProduct','AvgTimeFAQ','AvgTimeAccountMng']].sum()==0)\\\n",
    "                      else x['AvgTimeFAQ']/x[['AvgTimeProduct','AvgTimeFAQ','AvgTimeAccountMng']].sum(),\n",
    "                      axis = 1)\n",
    "\n",
    "train['AvgTimeProductPct'] = train.apply(lambda x: 0 if (x[['AvgTimeProduct','AvgTimeFAQ','AvgTimeAccountMng']].sum()==0)\\\n",
    "                      else x['AvgTimeProduct']/x[['AvgTimeProduct','AvgTimeFAQ','AvgTimeAccountMng']].sum(),\n",
    "                      axis = 1)\n",
    "\n",
    "train['AvgTimeAccountMngPct'] = train.apply(lambda x: 0 if (x[['AvgTimeProduct','AvgTimeFAQ','AvgTimeAccountMng']].sum()==0)\\\n",
    "                      else x['AvgTimeAccountMng']/x[['AvgTimeProduct','AvgTimeFAQ','AvgTimeAccountMng']].sum(),\n",
    "                      axis = 1)"
   ]
  },
  {
   "cell_type": "code",
   "execution_count": 155,
   "metadata": {},
   "outputs": [],
   "source": [
    "# Pages proportion in total pages\n",
    "train['FAQPPct'] = train.apply(lambda x: 0 if (x[['FAQ_Pages','AccountMng_Pages','Product_Pages']].sum()==0)\\\n",
    "                      else x['FAQ_Pages']/x[['FAQ_Pages','AccountMng_Pages','Product_Pages']].sum(),\n",
    "                      axis = 1)\n",
    "\n",
    "train['ProductPPct'] = train.apply(lambda x: 0 if (x[['FAQ_Pages','AccountMng_Pages','Product_Pages']].sum()==0)\\\n",
    "                      else x['Product_Pages']/x[['FAQ_Pages','AccountMng_Pages','Product_Pages']].sum(),\n",
    "                      axis = 1)\n",
    "\n",
    "train['AccountMngPPct'] = train.apply(lambda x: 0 if (x[['FAQ_Pages','AccountMng_Pages','Product_Pages']].sum()==0)\\\n",
    "                      else x['AccountMng_Pages']/x[['FAQ_Pages','AccountMng_Pages','Product_Pages']].sum(),\n",
    "                      axis = 1)"
   ]
  },
  {
   "cell_type": "code",
   "execution_count": 156,
   "metadata": {},
   "outputs": [
    {
     "data": {
      "image/png": "[encoded data removed]",
      "text/plain": [
       "<Figure size 1296x720 with 1 Axes>"
      ]
     },
     "metadata": {
      "needs_background": "light"
     },
     "output_type": "display_data"
    }
   ],
   "source": [
    "# Prepare figure\n",
    "sns.color_palette(\"flare\", as_cmap=True)\n",
    "fig = plt.figure(figsize=(18, 10))\n",
    "sns.scatterplot(data=train[train['GoogleAnalytics_BounceRate']< 200], \n",
    "                x=\"GoogleAnalytics_PageValue\", y=\"GoogleAnalytics_BounceRate\" , hue=\"Buy\", style=\"Buy\" , alpha=1)\n",
    "plt.show()"
   ]
  },
  {
   "cell_type": "code",
   "execution_count": 157,
   "metadata": {},
   "outputs": [
    {
     "data": {
      "text/html": [
       "<div>\n",
       "<style scoped>\n",
       "    .dataframe tbody tr th:only-of-type {\n",
       "        vertical-align: middle;\n",
       "    }\n",
       "\n",
       "    .dataframe tbody tr th {\n",
       "        vertical-align: top;\n",
       "    }\n",
       "\n",
       "    .dataframe thead th {\n",
       "        text-align: right;\n",
       "    }\n",
       "</style>\n",
       "<table border=\"1\" class=\"dataframe\">\n",
       "  <thead>\n",
       "    <tr style=\"text-align: right;\">\n",
       "      <th></th>\n",
       "      <th>Date</th>\n",
       "      <th>AccountMng_Pages</th>\n",
       "      <th>AccountMng_Duration</th>\n",
       "      <th>FAQ_Pages</th>\n",
       "      <th>FAQ_Duration</th>\n",
       "      <th>Product_Pages</th>\n",
       "      <th>Product_Duration</th>\n",
       "      <th>GoogleAnalytics_BounceRate</th>\n",
       "      <th>GoogleAnalytics_ExitRate</th>\n",
       "      <th>GoogleAnalytics_PageValue</th>\n",
       "      <th>...</th>\n",
       "      <th>source_Above_Mean</th>\n",
       "      <th>Browser_1</th>\n",
       "      <th>Browser_2</th>\n",
       "      <th>Browser_all</th>\n",
       "      <th>AvgFAQTimePct</th>\n",
       "      <th>AvgTimeProductPct</th>\n",
       "      <th>AvgTimeAccountMngPct</th>\n",
       "      <th>FAQPPct</th>\n",
       "      <th>ProductPPct</th>\n",
       "      <th>AccountMngPPct</th>\n",
       "    </tr>\n",
       "    <tr>\n",
       "      <th>Access_ID</th>\n",
       "      <th></th>\n",
       "      <th></th>\n",
       "      <th></th>\n",
       "      <th></th>\n",
       "      <th></th>\n",
       "      <th></th>\n",
       "      <th></th>\n",
       "      <th></th>\n",
       "      <th></th>\n",
       "      <th></th>\n",
       "      <th></th>\n",
       "      <th></th>\n",
       "      <th></th>\n",
       "      <th></th>\n",
       "      <th></th>\n",
       "      <th></th>\n",
       "      <th></th>\n",
       "      <th></th>\n",
       "      <th></th>\n",
       "      <th></th>\n",
       "      <th></th>\n",
       "    </tr>\n",
       "  </thead>\n",
       "  <tbody>\n",
       "    <tr>\n",
       "      <th>103117814</th>\n",
       "      <td>2020-05-20</td>\n",
       "      <td>0</td>\n",
       "      <td>0.0</td>\n",
       "      <td>0</td>\n",
       "      <td>0.0</td>\n",
       "      <td>23</td>\n",
       "      <td>684.5000</td>\n",
       "      <td>0.0217</td>\n",
       "      <td>0.0449</td>\n",
       "      <td>0.0000</td>\n",
       "      <td>...</td>\n",
       "      <td>0</td>\n",
       "      <td>0</td>\n",
       "      <td>1</td>\n",
       "      <td>0</td>\n",
       "      <td>0.0</td>\n",
       "      <td>1.000000</td>\n",
       "      <td>0.000000</td>\n",
       "      <td>0.0</td>\n",
       "      <td>1.000000</td>\n",
       "      <td>0.000000</td>\n",
       "    </tr>\n",
       "    <tr>\n",
       "      <th>103201891</th>\n",
       "      <td>2020-12-04</td>\n",
       "      <td>0</td>\n",
       "      <td>0.0</td>\n",
       "      <td>0</td>\n",
       "      <td>0.0</td>\n",
       "      <td>8</td>\n",
       "      <td>95.0000</td>\n",
       "      <td>0.0250</td>\n",
       "      <td>0.0583</td>\n",
       "      <td>0.0000</td>\n",
       "      <td>...</td>\n",
       "      <td>1</td>\n",
       "      <td>0</td>\n",
       "      <td>0</td>\n",
       "      <td>1</td>\n",
       "      <td>0.0</td>\n",
       "      <td>1.000000</td>\n",
       "      <td>0.000000</td>\n",
       "      <td>0.0</td>\n",
       "      <td>1.000000</td>\n",
       "      <td>0.000000</td>\n",
       "    </tr>\n",
       "    <tr>\n",
       "      <th>103226087</th>\n",
       "      <td>2020-12-22</td>\n",
       "      <td>0</td>\n",
       "      <td>0.0</td>\n",
       "      <td>0</td>\n",
       "      <td>0.0</td>\n",
       "      <td>9</td>\n",
       "      <td>608.7500</td>\n",
       "      <td>0.0000</td>\n",
       "      <td>0.0250</td>\n",
       "      <td>42.4225</td>\n",
       "      <td>...</td>\n",
       "      <td>1</td>\n",
       "      <td>0</td>\n",
       "      <td>1</td>\n",
       "      <td>0</td>\n",
       "      <td>0.0</td>\n",
       "      <td>1.000000</td>\n",
       "      <td>0.000000</td>\n",
       "      <td>0.0</td>\n",
       "      <td>1.000000</td>\n",
       "      <td>0.000000</td>\n",
       "    </tr>\n",
       "    <tr>\n",
       "      <th>103279585</th>\n",
       "      <td>2020-03-19</td>\n",
       "      <td>0</td>\n",
       "      <td>0.0</td>\n",
       "      <td>0</td>\n",
       "      <td>0.0</td>\n",
       "      <td>12</td>\n",
       "      <td>249.5000</td>\n",
       "      <td>0.0056</td>\n",
       "      <td>0.0250</td>\n",
       "      <td>0.0000</td>\n",
       "      <td>...</td>\n",
       "      <td>1</td>\n",
       "      <td>0</td>\n",
       "      <td>0</td>\n",
       "      <td>1</td>\n",
       "      <td>0.0</td>\n",
       "      <td>1.000000</td>\n",
       "      <td>0.000000</td>\n",
       "      <td>0.0</td>\n",
       "      <td>1.000000</td>\n",
       "      <td>0.000000</td>\n",
       "    </tr>\n",
       "    <tr>\n",
       "      <th>103364259</th>\n",
       "      <td>2020-03-13</td>\n",
       "      <td>0</td>\n",
       "      <td>0.0</td>\n",
       "      <td>0</td>\n",
       "      <td>0.0</td>\n",
       "      <td>17</td>\n",
       "      <td>469.4167</td>\n",
       "      <td>0.0000</td>\n",
       "      <td>0.0118</td>\n",
       "      <td>0.0000</td>\n",
       "      <td>...</td>\n",
       "      <td>1</td>\n",
       "      <td>1</td>\n",
       "      <td>0</td>\n",
       "      <td>0</td>\n",
       "      <td>0.0</td>\n",
       "      <td>1.000000</td>\n",
       "      <td>0.000000</td>\n",
       "      <td>0.0</td>\n",
       "      <td>1.000000</td>\n",
       "      <td>0.000000</td>\n",
       "    </tr>\n",
       "    <tr>\n",
       "      <th>...</th>\n",
       "      <td>...</td>\n",
       "      <td>...</td>\n",
       "      <td>...</td>\n",
       "      <td>...</td>\n",
       "      <td>...</td>\n",
       "      <td>...</td>\n",
       "      <td>...</td>\n",
       "      <td>...</td>\n",
       "      <td>...</td>\n",
       "      <td>...</td>\n",
       "      <td>...</td>\n",
       "      <td>...</td>\n",
       "      <td>...</td>\n",
       "      <td>...</td>\n",
       "      <td>...</td>\n",
       "      <td>...</td>\n",
       "      <td>...</td>\n",
       "      <td>...</td>\n",
       "      <td>...</td>\n",
       "      <td>...</td>\n",
       "      <td>...</td>\n",
       "    </tr>\n",
       "    <tr>\n",
       "      <th>961939573</th>\n",
       "      <td>2020-12-30</td>\n",
       "      <td>8</td>\n",
       "      <td>162.5</td>\n",
       "      <td>0</td>\n",
       "      <td>0.0</td>\n",
       "      <td>9</td>\n",
       "      <td>156.5000</td>\n",
       "      <td>0.0182</td>\n",
       "      <td>0.0273</td>\n",
       "      <td>0.0000</td>\n",
       "      <td>...</td>\n",
       "      <td>0</td>\n",
       "      <td>1</td>\n",
       "      <td>0</td>\n",
       "      <td>0</td>\n",
       "      <td>0.0</td>\n",
       "      <td>0.461227</td>\n",
       "      <td>0.538773</td>\n",
       "      <td>0.0</td>\n",
       "      <td>0.529412</td>\n",
       "      <td>0.470588</td>\n",
       "    </tr>\n",
       "    <tr>\n",
       "      <th>961941286</th>\n",
       "      <td>2020-11-16</td>\n",
       "      <td>0</td>\n",
       "      <td>0.0</td>\n",
       "      <td>0</td>\n",
       "      <td>0.0</td>\n",
       "      <td>9</td>\n",
       "      <td>198.1333</td>\n",
       "      <td>0.0000</td>\n",
       "      <td>0.0533</td>\n",
       "      <td>0.0000</td>\n",
       "      <td>...</td>\n",
       "      <td>1</td>\n",
       "      <td>1</td>\n",
       "      <td>0</td>\n",
       "      <td>0</td>\n",
       "      <td>0.0</td>\n",
       "      <td>1.000000</td>\n",
       "      <td>0.000000</td>\n",
       "      <td>0.0</td>\n",
       "      <td>1.000000</td>\n",
       "      <td>0.000000</td>\n",
       "    </tr>\n",
       "    <tr>\n",
       "      <th>962147749</th>\n",
       "      <td>2020-11-22</td>\n",
       "      <td>2</td>\n",
       "      <td>45.5</td>\n",
       "      <td>0</td>\n",
       "      <td>0.0</td>\n",
       "      <td>22</td>\n",
       "      <td>535.0000</td>\n",
       "      <td>0.0000</td>\n",
       "      <td>0.0250</td>\n",
       "      <td>9.6503</td>\n",
       "      <td>...</td>\n",
       "      <td>0</td>\n",
       "      <td>0</td>\n",
       "      <td>1</td>\n",
       "      <td>0</td>\n",
       "      <td>0.0</td>\n",
       "      <td>0.516659</td>\n",
       "      <td>0.483341</td>\n",
       "      <td>0.0</td>\n",
       "      <td>0.916667</td>\n",
       "      <td>0.083333</td>\n",
       "    </tr>\n",
       "    <tr>\n",
       "      <th>962182167</th>\n",
       "      <td>2020-11-19</td>\n",
       "      <td>8</td>\n",
       "      <td>166.7</td>\n",
       "      <td>0</td>\n",
       "      <td>0.0</td>\n",
       "      <td>9</td>\n",
       "      <td>171.7000</td>\n",
       "      <td>0.0167</td>\n",
       "      <td>0.0500</td>\n",
       "      <td>0.0000</td>\n",
       "      <td>...</td>\n",
       "      <td>1</td>\n",
       "      <td>0</td>\n",
       "      <td>1</td>\n",
       "      <td>0</td>\n",
       "      <td>0.0</td>\n",
       "      <td>0.477957</td>\n",
       "      <td>0.522043</td>\n",
       "      <td>0.0</td>\n",
       "      <td>0.529412</td>\n",
       "      <td>0.470588</td>\n",
       "    </tr>\n",
       "    <tr>\n",
       "      <th>962218682</th>\n",
       "      <td>2020-05-18</td>\n",
       "      <td>1</td>\n",
       "      <td>107.0</td>\n",
       "      <td>0</td>\n",
       "      <td>0.0</td>\n",
       "      <td>27</td>\n",
       "      <td>839.6667</td>\n",
       "      <td>0.0214</td>\n",
       "      <td>0.0367</td>\n",
       "      <td>0.0000</td>\n",
       "      <td>...</td>\n",
       "      <td>0</td>\n",
       "      <td>0</td>\n",
       "      <td>1</td>\n",
       "      <td>0</td>\n",
       "      <td>0.0</td>\n",
       "      <td>0.225192</td>\n",
       "      <td>0.774808</td>\n",
       "      <td>0.0</td>\n",
       "      <td>0.964286</td>\n",
       "      <td>0.035714</td>\n",
       "    </tr>\n",
       "  </tbody>\n",
       "</table>\n",
       "<p>5735 rows × 185 columns</p>\n",
       "</div>"
      ],
      "text/plain": [
       "                Date  AccountMng_Pages  AccountMng_Duration  FAQ_Pages  \\\n",
       "Access_ID                                                                \n",
       "103117814 2020-05-20                 0                  0.0          0   \n",
       "103201891 2020-12-04                 0                  0.0          0   \n",
       "103226087 2020-12-22                 0                  0.0          0   \n",
       "103279585 2020-03-19                 0                  0.0          0   \n",
       "103364259 2020-03-13                 0                  0.0          0   \n",
       "...              ...               ...                  ...        ...   \n",
       "961939573 2020-12-30                 8                162.5          0   \n",
       "961941286 2020-11-16                 0                  0.0          0   \n",
       "962147749 2020-11-22                 2                 45.5          0   \n",
       "962182167 2020-11-19                 8                166.7          0   \n",
       "962218682 2020-05-18                 1                107.0          0   \n",
       "\n",
       "           FAQ_Duration  Product_Pages  Product_Duration  \\\n",
       "Access_ID                                                  \n",
       "103117814           0.0             23          684.5000   \n",
       "103201891           0.0              8           95.0000   \n",
       "103226087           0.0              9          608.7500   \n",
       "103279585           0.0             12          249.5000   \n",
       "103364259           0.0             17          469.4167   \n",
       "...                 ...            ...               ...   \n",
       "961939573           0.0              9          156.5000   \n",
       "961941286           0.0              9          198.1333   \n",
       "962147749           0.0             22          535.0000   \n",
       "962182167           0.0              9          171.7000   \n",
       "962218682           0.0             27          839.6667   \n",
       "\n",
       "           GoogleAnalytics_BounceRate  GoogleAnalytics_ExitRate  \\\n",
       "Access_ID                                                         \n",
       "103117814                      0.0217                    0.0449   \n",
       "103201891                      0.0250                    0.0583   \n",
       "103226087                      0.0000                    0.0250   \n",
       "103279585                      0.0056                    0.0250   \n",
       "103364259                      0.0000                    0.0118   \n",
       "...                               ...                       ...   \n",
       "961939573                      0.0182                    0.0273   \n",
       "961941286                      0.0000                    0.0533   \n",
       "962147749                      0.0000                    0.0250   \n",
       "962182167                      0.0167                    0.0500   \n",
       "962218682                      0.0214                    0.0367   \n",
       "\n",
       "           GoogleAnalytics_PageValue  ... source_Above_Mean  Browser_1  \\\n",
       "Access_ID                             ...                                \n",
       "103117814                     0.0000  ...                 0          0   \n",
       "103201891                     0.0000  ...                 1          0   \n",
       "103226087                    42.4225  ...                 1          0   \n",
       "103279585                     0.0000  ...                 1          0   \n",
       "103364259                     0.0000  ...                 1          1   \n",
       "...                              ...  ...               ...        ...   \n",
       "961939573                     0.0000  ...                 0          1   \n",
       "961941286                     0.0000  ...                 1          1   \n",
       "962147749                     9.6503  ...                 0          0   \n",
       "962182167                     0.0000  ...                 1          0   \n",
       "962218682                     0.0000  ...                 0          0   \n",
       "\n",
       "          Browser_2  Browser_all AvgFAQTimePct  AvgTimeProductPct  \\\n",
       "Access_ID                                                           \n",
       "103117814         1            0           0.0           1.000000   \n",
       "103201891         0            1           0.0           1.000000   \n",
       "103226087         1            0           0.0           1.000000   \n",
       "103279585         0            1           0.0           1.000000   \n",
       "103364259         0            0           0.0           1.000000   \n",
       "...             ...          ...           ...                ...   \n",
       "961939573         0            0           0.0           0.461227   \n",
       "961941286         0            0           0.0           1.000000   \n",
       "962147749         1            0           0.0           0.516659   \n",
       "962182167         1            0           0.0           0.477957   \n",
       "962218682         1            0           0.0           0.225192   \n",
       "\n",
       "          AvgTimeAccountMngPct  FAQPPct  ProductPPct  AccountMngPPct  \n",
       "Access_ID                                                             \n",
       "103117814             0.000000      0.0     1.000000        0.000000  \n",
       "103201891             0.000000      0.0     1.000000        0.000000  \n",
       "103226087             0.000000      0.0     1.000000        0.000000  \n",
       "103279585             0.000000      0.0     1.000000        0.000000  \n",
       "103364259             0.000000      0.0     1.000000        0.000000  \n",
       "...                        ...      ...          ...             ...  \n",
       "961939573             0.538773      0.0     0.529412        0.470588  \n",
       "961941286             0.000000      0.0     1.000000        0.000000  \n",
       "962147749             0.483341      0.0     0.916667        0.083333  \n",
       "962182167             0.522043      0.0     0.529412        0.470588  \n",
       "962218682             0.774808      0.0     0.964286        0.035714  \n",
       "\n",
       "[5735 rows x 185 columns]"
      ]
     },
     "execution_count": 157,
     "metadata": {},
     "output_type": "execute_result"
    }
   ],
   "source": [
    "train[(train['TotalPages']>5) &(train['TotalPages']<30)]"
   ]
  },
  {
   "cell_type": "code",
   "execution_count": 158,
   "metadata": {},
   "outputs": [
    {
     "data": {
      "image/png": "[encoded data removed]",
      "text/plain": [
       "<Figure size 1296x720 with 1 Axes>"
      ]
     },
     "metadata": {
      "needs_background": "light"
     },
     "output_type": "display_data"
    }
   ],
   "source": [
    "# Prepare figure\n",
    "sns.color_palette(\"flare\", as_cmap=True)\n",
    "fig = plt.figure(figsize=(18, 10))\n",
    "sns.scatterplot(data=train[(train['GoogleAnalytics_PageValue'] < 30) & (train['GoogleAnalytics_PageValue'] > 15)]\n",
    "                , x=\"TotalPages\", y=\"GoogleAnalytics_PageValue\" , hue=\"Buy\", style=\"Buy\" , alpha=1)\n",
    "plt.show()"
   ]
  },
  {
   "cell_type": "code",
   "execution_count": 159,
   "metadata": {},
   "outputs": [],
   "source": [
    "sub_data = []\n",
    "for i in range(3,200):\n",
    "    sub_train = train[(train['TotalPages'] > 3)& (train['TotalPages'] < i)]\n",
    "    sub_train = sub_train[['TotalPages', 'GoogleAnalytics_PageValue', 'Buy']]\n",
    "    buy = len(sub_train[sub_train['Buy']==1])\n",
    "    buyPercent = buy/len(sub_train) if (buy > 0) else 0\n",
    "    not_buy = len(sub_train[sub_train['Buy']==0])\n",
    "    not_buyPercent = not_buy/len(sub_train) if (not_buy > 0) else 0\n",
    "    mean_pagevalue = sub_train.GoogleAnalytics_PageValue.mean()\n",
    "    sub_data.append([len(sub_train), buy, buyPercent, not_buy, not_buyPercent , \n",
    "                     mean_pagevalue, sub_train.GoogleAnalytics_PageValue.max(), i])"
   ]
  },
  {
   "cell_type": "code",
   "execution_count": 160,
   "metadata": {},
   "outputs": [],
   "source": [
    "sub_data = pd.DataFrame(sub_data, columns = ['Count', 'NoBuy', 'BuyPct', 'NoNotBuy', 'NotBuyPct', 'Mean' ,'Max', 'I'])"
   ]
  },
  {
   "cell_type": "code",
   "execution_count": 161,
   "metadata": {},
   "outputs": [
    {
     "data": {
      "text/plain": [
       "<AxesSubplot:xlabel='I', ylabel='BuyPct'>"
      ]
     },
     "execution_count": 161,
     "metadata": {},
     "output_type": "execute_result"
    },
    {
     "data": {
      "image/png": "[encoded data removed]",
      "text/plain": [
       "<Figure size 432x288 with 1 Axes>"
      ]
     },
     "metadata": {
      "needs_background": "light"
     },
     "output_type": "display_data"
    }
   ],
   "source": [
    "#may_flights = flights.query(\"month == 'May'\")\n",
    "sns.lineplot(data=sub_data, x=\"I\", y=\"BuyPct\")"
   ]
  },
  {
   "cell_type": "code",
   "execution_count": 162,
   "metadata": {},
   "outputs": [
    {
     "data": {
      "text/plain": [
       "<AxesSubplot:xlabel='NotBuyPct', ylabel='I'>"
      ]
     },
     "execution_count": 162,
     "metadata": {},
     "output_type": "execute_result"
    },
    {
     "data": {
      "image/png": "[encoded data removed]",
      "text/plain": [
       "<Figure size 432x288 with 1 Axes>"
      ]
     },
     "metadata": {
      "needs_background": "light"
     },
     "output_type": "display_data"
    }
   ],
   "source": [
    "sns.lineplot(data=sub_data, x=\"NotBuyPct\", y=\"I\")"
   ]
  },
  {
   "cell_type": "markdown",
   "metadata": {},
   "source": [
    "# Finish Features"
   ]
  },
  {
   "cell_type": "code",
   "execution_count": 163,
   "metadata": {},
   "outputs": [],
   "source": [
    "#save copy of train\n",
    "train_copy = train"
   ]
  },
  {
   "cell_type": "code",
   "execution_count": 164,
   "metadata": {},
   "outputs": [],
   "source": [
    "#train = train_copy"
   ]
  },
  {
   "cell_type": "code",
   "execution_count": 165,
   "metadata": {},
   "outputs": [],
   "source": [
    "train = train.drop([ \n",
    "                    'AccountMng_Pages',\n",
    "                    'AccountMng_Duration',\n",
    "                    'FAQ_Pages',\n",
    "                    'FAQ_Duration',\n",
    "                    'Product_Pages',\n",
    "                    'Product_Duration',\n",
    "                    'GoogleAnalytics_BounceRate',\n",
    "                    'GoogleAnalytics_ExitRate',\n",
    "                    'GoogleAnalytics_PageValue',\n",
    "                    \n",
    "                    #'OS',\n",
    "                    \n",
    "                    #'Browser',\n",
    "                    #'Country', \n",
    "                    #'Type_of_Traffic', \n",
    "                    \n",
    "                    'Type_of_Visitor',\n",
    "                    'Date_year',\n",
    "                    'Date_dayofweek',\n",
    "                    'AvgTimeAccountMng',\n",
    "                    'AvgTimeAccountMng_log',\n",
    "                    'AccountMng_Duration_log',\n",
    "                    'TotalPages',\n",
    "                    'TotalTime',\n",
    "                    'TotalTime_log',\n",
    "                    'TotalPages_log', \n",
    "                    'AvgTimeFAQ', \n",
    "                    'AvgTimeFAQ_log',\n",
    "                    'FAQ_Pages_log', \n",
    "                    'AvgTimeProduct',\n",
    "                    'AvgTimeProduct_log',\n",
    "                    'Product_Pages_log',\n",
    "                    'quantile_buckets10',\n",
    "                    'GoogleAnalytics_ExitRate_buckets10',\n",
    "                    'page_visits',\n",
    "                    'GoogleAnalytics_PageValue_log',\n",
    "                    'Quarter'\n",
    "                    ], axis=1)"
   ]
  },
  {
   "cell_type": "code",
   "execution_count": 166,
   "metadata": {},
   "outputs": [
    {
     "data": {
      "text/plain": [
       "(12299, 155)"
      ]
     },
     "execution_count": 166,
     "metadata": {},
     "output_type": "execute_result"
    }
   ],
   "source": [
    "train.shape"
   ]
  },
  {
   "cell_type": "markdown",
   "metadata": {},
   "source": [
    "### Try PCA to reduce the dimensionality of Type_of_Traffic"
   ]
  },
  {
   "cell_type": "code",
   "execution_count": 167,
   "metadata": {},
   "outputs": [],
   "source": [
    "train_ToT = train[['Type_of_Traffic_1', 'Type_of_Traffic_2', 'Type_of_Traffic_3', 'Type_of_Traffic_4', \n",
    "                  'Type_of_Traffic_5', 'Type_of_Traffic_6', 'Type_of_Traffic_7', 'Type_of_Traffic_8',\n",
    "                  'Type_of_Traffic_9', 'Type_of_Traffic_10', 'Type_of_Traffic_11', 'Type_of_Traffic_12',\n",
    "                  'Type_of_Traffic_13', 'Type_of_Traffic_14']]"
   ]
  },
  {
   "cell_type": "code",
   "execution_count": 168,
   "metadata": {},
   "outputs": [
    {
     "name": "stdout",
     "output_type": "stream",
     "text": [
      "Using 5 components, we can explain 0.8428704366662058% of the variability in the original data.\n"
     ]
    }
   ],
   "source": [
    "from sklearn.decomposition import PCA\n",
    "# Loop Function to identify number of principal components that explain at least 85% of the variance\n",
    "\n",
    "#assign Type_of_Traffic data\n",
    "df3 = train_ToT\n",
    "\n",
    "for comp in range(3, df3.shape[1]):\n",
    "    pca = PCA(n_components= comp, random_state=42)\n",
    "    pca.fit(df3)\n",
    "    comp_check = pca.explained_variance_ratio_\n",
    "    final_comp = comp\n",
    "    if comp_check.sum() > 0.8:\n",
    "        break\n",
    "        \n",
    "Final_PCA = PCA(n_components= final_comp,random_state=42)\n",
    "Final_PCA.fit(df3)\n",
    "cluster_df=Final_PCA.transform(df3)\n",
    "num_comps = comp_check.shape[0]\n",
    "print(\"Using {} components, we can explain {}% of the variability in the original data.\".format(final_comp,comp_check.sum()))"
   ]
  },
  {
   "cell_type": "code",
   "execution_count": 169,
   "metadata": {},
   "outputs": [],
   "source": [
    "train_ToT_PCA = pd.DataFrame(cluster_df)\n",
    "train_ToT_PCA.index = train.index"
   ]
  },
  {
   "cell_type": "code",
   "execution_count": 170,
   "metadata": {},
   "outputs": [],
   "source": [
    "train_ToT_PCA.columns =['Type_of_Traffic_PCA1', 'Type_of_Traffic_PCA2', 'Type_of_Traffic_PCA3', \n",
    "                        'Type_of_Traffic_PCA4', 'Type_of_Traffic_PCA5', #'Type_of_Traffic_PCA6'\n",
    "                       ]"
   ]
  },
  {
   "cell_type": "code",
   "execution_count": 171,
   "metadata": {},
   "outputs": [],
   "source": [
    "train = train.merge(train_ToT_PCA, left_index=True, right_index=True)"
   ]
  },
  {
   "cell_type": "code",
   "execution_count": 172,
   "metadata": {},
   "outputs": [
    {
     "data": {
      "text/plain": [
       "\"train = train.drop(['Type_of_Traffic_1',\\n                   'Type_of_Traffic_2',\\n                   'Type_of_Traffic_3',\\n                   'Type_of_Traffic_4',\\n                   'Type_of_Traffic_5',\\n                   'Type_of_Traffic_6',\\n                   'Type_of_Traffic_7',\\n                   'Type_of_Traffic_8',\\n                   'Type_of_Traffic_9',\\n                   'Type_of_Traffic_10',\\n                   'Type_of_Traffic_11',\\n                   'Type_of_Traffic_12',\\n                   'Type_of_Traffic_13',\\n                   'Type_of_Traffic_14'\\n                   ],\\n                   axis = 1) # axis = 1 --> columns (0 -> rows)\""
      ]
     },
     "execution_count": 172,
     "metadata": {},
     "output_type": "execute_result"
    }
   ],
   "source": [
    "'''train = train.drop(['Type_of_Traffic_1',\n",
    "                   'Type_of_Traffic_2',\n",
    "                   'Type_of_Traffic_3',\n",
    "                   'Type_of_Traffic_4',\n",
    "                   'Type_of_Traffic_5',\n",
    "                   'Type_of_Traffic_6',\n",
    "                   'Type_of_Traffic_7',\n",
    "                   'Type_of_Traffic_8',\n",
    "                   'Type_of_Traffic_9',\n",
    "                   'Type_of_Traffic_10',\n",
    "                   'Type_of_Traffic_11',\n",
    "                   'Type_of_Traffic_12',\n",
    "                   'Type_of_Traffic_13',\n",
    "                   'Type_of_Traffic_14'\n",
    "                   ],\n",
    "                   axis = 1) # axis = 1 --> columns (0 -> rows)'''"
   ]
  },
  {
   "cell_type": "code",
   "execution_count": 173,
   "metadata": {},
   "outputs": [
    {
     "data": {
      "text/plain": [
       "Index(['Date', 'OS', 'Browser', 'Country', 'Type_of_Traffic', 'Buy', 'set',\n",
       "       'Date_month', 'Date_month_2', 'Date_month_3',\n",
       "       ...\n",
       "       'AvgTimeProductPct', 'AvgTimeAccountMngPct', 'FAQPPct', 'ProductPPct',\n",
       "       'AccountMngPPct', 'Type_of_Traffic_PCA1', 'Type_of_Traffic_PCA2',\n",
       "       'Type_of_Traffic_PCA3', 'Type_of_Traffic_PCA4', 'Type_of_Traffic_PCA5'],\n",
       "      dtype='object', length=160)"
      ]
     },
     "execution_count": 173,
     "metadata": {},
     "output_type": "execute_result"
    }
   ],
   "source": [
    "train.columns"
   ]
  },
  {
   "cell_type": "code",
   "execution_count": 174,
   "metadata": {},
   "outputs": [],
   "source": [
    "train = train.drop('Date', axis=1)\n",
    "train.to_csv('20211202_total_features.csv')"
   ]
  }
 ],
 "metadata": {
  "kernelspec": {
   "display_name": "Python 3",
   "language": "python",
   "name": "python3"
  },
  "language_info": {
   "codemirror_mode": {
    "name": "ipython",
    "version": 3
   },
   "file_extension": ".py",
   "mimetype": "text/x-python",
   "name": "python",
   "nbconvert_exporter": "python",
   "pygments_lexer": "ipython3",
   "version": "3.8.8"
  }
 },
 "nbformat": 4,
 "nbformat_minor": 4
}
